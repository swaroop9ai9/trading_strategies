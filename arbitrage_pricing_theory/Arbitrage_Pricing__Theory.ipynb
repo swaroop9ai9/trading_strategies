{
  "nbformat": 4,
  "nbformat_minor": 0,
  "metadata": {
    "colab": {
      "name": "Arbitrage_Pricing _Theory.ipynb",
      "provenance": []
    },
    "kernelspec": {
      "name": "python3",
      "display_name": "Python 3"
    }
  },
  "cells": [
    {
      "cell_type": "code",
      "metadata": {
        "id": "TRPrGPS1SXxI",
        "outputId": "e3a599f3-d0cc-481f-d824-69e172a0a881",
        "colab": {
          "base_uri": "https://localhost:8080/",
          "height": 91
        }
      },
      "source": [
        "import pandas as pd\n",
        "import matplotlib.pyplot as plt\n",
        "import datetime\n",
        "import seaborn as sns\n",
        "import warnings\n",
        "#warnings.filterwarnings(‘ignore’)"
      ],
      "execution_count": null,
      "outputs": [
        {
          "output_type": "stream",
          "text": [
            "/usr/local/lib/python3.6/dist-packages/statsmodels/tools/_testing.py:19: FutureWarning: pandas.util.testing is deprecated. Use the functions in the public API at pandas.testing instead.\n",
            "  import pandas.util.testing as tm\n"
          ],
          "name": "stderr"
        }
      ]
    },
    {
      "cell_type": "code",
      "metadata": {
        "id": "8H6tdYuYSbwb",
        "outputId": "3c3de4f6-8800-4069-89d0-c9f3c6dbe6c8",
        "colab": {
          "base_uri": "https://localhost:8080/",
          "height": 599
        }
      },
      "source": [
        "from pandas_datareader import data as pdr\n",
        "!pip3 install yfinance\n",
        "import yfinance as yf\n",
        "!pip install fredapi\n",
        "yf.pdr_override()\n",
        "from fredapi import Fred"
      ],
      "execution_count": null,
      "outputs": [
        {
          "output_type": "stream",
          "text": [
            "Collecting yfinance\n",
            "  Downloading https://files.pythonhosted.org/packages/c2/31/8b374a12b90def92a4e27d0fc595fc43635f395984e36a075244d98bd265/yfinance-0.1.54.tar.gz\n",
            "Requirement already satisfied: pandas>=0.24 in /usr/local/lib/python3.6/dist-packages (from yfinance) (1.0.5)\n",
            "Requirement already satisfied: numpy>=1.15 in /usr/local/lib/python3.6/dist-packages (from yfinance) (1.18.5)\n",
            "Requirement already satisfied: requests>=2.20 in /usr/local/lib/python3.6/dist-packages (from yfinance) (2.23.0)\n",
            "Requirement already satisfied: multitasking>=0.0.7 in /usr/local/lib/python3.6/dist-packages (from yfinance) (0.0.9)\n",
            "Requirement already satisfied: python-dateutil>=2.6.1 in /usr/local/lib/python3.6/dist-packages (from pandas>=0.24->yfinance) (2.8.1)\n",
            "Requirement already satisfied: pytz>=2017.2 in /usr/local/lib/python3.6/dist-packages (from pandas>=0.24->yfinance) (2018.9)\n",
            "Requirement already satisfied: certifi>=2017.4.17 in /usr/local/lib/python3.6/dist-packages (from requests>=2.20->yfinance) (2020.6.20)\n",
            "Requirement already satisfied: urllib3!=1.25.0,!=1.25.1,<1.26,>=1.21.1 in /usr/local/lib/python3.6/dist-packages (from requests>=2.20->yfinance) (1.24.3)\n",
            "Requirement already satisfied: chardet<4,>=3.0.2 in /usr/local/lib/python3.6/dist-packages (from requests>=2.20->yfinance) (3.0.4)\n",
            "Requirement already satisfied: idna<3,>=2.5 in /usr/local/lib/python3.6/dist-packages (from requests>=2.20->yfinance) (2.10)\n",
            "Requirement already satisfied: six>=1.5 in /usr/local/lib/python3.6/dist-packages (from python-dateutil>=2.6.1->pandas>=0.24->yfinance) (1.15.0)\n",
            "Building wheels for collected packages: yfinance\n",
            "  Building wheel for yfinance (setup.py) ... \u001b[?25l\u001b[?25hdone\n",
            "  Created wheel for yfinance: filename=yfinance-0.1.54-py2.py3-none-any.whl size=22409 sha256=b081972633928a6227738e7158f3f07782747697a13a6c311d25d7072d271bbc\n",
            "  Stored in directory: /root/.cache/pip/wheels/f9/e3/5b/ec24dd2984b12d61e0abf26289746c2436a0e7844f26f2515c\n",
            "Successfully built yfinance\n",
            "Installing collected packages: yfinance\n",
            "Successfully installed yfinance-0.1.54\n",
            "Collecting fredapi\n",
            "  Downloading https://files.pythonhosted.org/packages/8e/46/c779a9389b39007ac154c1a66871bdb3a712b149fd5a82fb0b7f5267fe48/fredapi-0.4.2-py3-none-any.whl\n",
            "Requirement already satisfied: pandas in /usr/local/lib/python3.6/dist-packages (from fredapi) (1.0.5)\n",
            "Requirement already satisfied: numpy>=1.13.3 in /usr/local/lib/python3.6/dist-packages (from pandas->fredapi) (1.18.5)\n",
            "Requirement already satisfied: pytz>=2017.2 in /usr/local/lib/python3.6/dist-packages (from pandas->fredapi) (2018.9)\n",
            "Requirement already satisfied: python-dateutil>=2.6.1 in /usr/local/lib/python3.6/dist-packages (from pandas->fredapi) (2.8.1)\n",
            "Requirement already satisfied: six>=1.5 in /usr/local/lib/python3.6/dist-packages (from python-dateutil>=2.6.1->pandas->fredapi) (1.15.0)\n",
            "Installing collected packages: fredapi\n",
            "Successfully installed fredapi-0.4.2\n"
          ],
          "name": "stdout"
        }
      ]
    },
    {
      "cell_type": "markdown",
      "metadata": {
        "id": "UQtJWNcTVdHp"
      },
      "source": [
        "# Data Analysis"
      ]
    },
    {
      "cell_type": "code",
      "metadata": {
        "id": "uAFR3yceSjZJ",
        "outputId": "a29bd5e8-c1ec-41fd-af25-477b09b0ac17",
        "colab": {
          "base_uri": "https://localhost:8080/",
          "height": 408
        }
      },
      "source": [
        "stocks = ['AAPL','MSFT','INTC']\n",
        "start = datetime.datetime(2010,1,1)\n",
        "end = datetime.datetime(2019,1,9)\n",
        "stock_prices = yf.download(stocks,start=start,end = end, interval= '3mo') # We are using quaterly data.\n",
        "stock_prices.head()"
      ],
      "execution_count": null,
      "outputs": [
        {
          "output_type": "stream",
          "text": [
            "[*********************100%***********************]  3 of 3 completed\n"
          ],
          "name": "stdout"
        },
        {
          "output_type": "execute_result",
          "data": {
            "text/html": [
              "<div>\n",
              "<style scoped>\n",
              "    .dataframe tbody tr th:only-of-type {\n",
              "        vertical-align: middle;\n",
              "    }\n",
              "\n",
              "    .dataframe tbody tr th {\n",
              "        vertical-align: top;\n",
              "    }\n",
              "\n",
              "    .dataframe thead tr th {\n",
              "        text-align: left;\n",
              "    }\n",
              "\n",
              "    .dataframe thead tr:last-of-type th {\n",
              "        text-align: right;\n",
              "    }\n",
              "</style>\n",
              "<table border=\"1\" class=\"dataframe\">\n",
              "  <thead>\n",
              "    <tr>\n",
              "      <th></th>\n",
              "      <th colspan=\"3\" halign=\"left\">Adj Close</th>\n",
              "      <th colspan=\"3\" halign=\"left\">Close</th>\n",
              "      <th colspan=\"3\" halign=\"left\">High</th>\n",
              "      <th colspan=\"3\" halign=\"left\">Low</th>\n",
              "      <th colspan=\"3\" halign=\"left\">Open</th>\n",
              "      <th colspan=\"3\" halign=\"left\">Volume</th>\n",
              "    </tr>\n",
              "    <tr>\n",
              "      <th></th>\n",
              "      <th>AAPL</th>\n",
              "      <th>INTC</th>\n",
              "      <th>MSFT</th>\n",
              "      <th>AAPL</th>\n",
              "      <th>INTC</th>\n",
              "      <th>MSFT</th>\n",
              "      <th>AAPL</th>\n",
              "      <th>INTC</th>\n",
              "      <th>MSFT</th>\n",
              "      <th>AAPL</th>\n",
              "      <th>INTC</th>\n",
              "      <th>MSFT</th>\n",
              "      <th>AAPL</th>\n",
              "      <th>INTC</th>\n",
              "      <th>MSFT</th>\n",
              "      <th>AAPL</th>\n",
              "      <th>INTC</th>\n",
              "      <th>MSFT</th>\n",
              "    </tr>\n",
              "    <tr>\n",
              "      <th>Date</th>\n",
              "      <th></th>\n",
              "      <th></th>\n",
              "      <th></th>\n",
              "      <th></th>\n",
              "      <th></th>\n",
              "      <th></th>\n",
              "      <th></th>\n",
              "      <th></th>\n",
              "      <th></th>\n",
              "      <th></th>\n",
              "      <th></th>\n",
              "      <th></th>\n",
              "      <th></th>\n",
              "      <th></th>\n",
              "      <th></th>\n",
              "      <th></th>\n",
              "      <th></th>\n",
              "      <th></th>\n",
              "    </tr>\n",
              "  </thead>\n",
              "  <tbody>\n",
              "    <tr>\n",
              "      <th>2010-01-01</th>\n",
              "      <td>29.062700</td>\n",
              "      <td>16.189905</td>\n",
              "      <td>22.927485</td>\n",
              "      <td>33.571430</td>\n",
              "      <td>22.290001</td>\n",
              "      <td>29.290001</td>\n",
              "      <td>33.925713</td>\n",
              "      <td>22.750000</td>\n",
              "      <td>31.24</td>\n",
              "      <td>27.178572</td>\n",
              "      <td>18.950001</td>\n",
              "      <td>27.570000</td>\n",
              "      <td>30.490000</td>\n",
              "      <td>20.790001</td>\n",
              "      <td>30.620001</td>\n",
              "      <td>9.524812e+09</td>\n",
              "      <td>3.925473e+09</td>\n",
              "      <td>3.544531e+09</td>\n",
              "    </tr>\n",
              "    <tr>\n",
              "      <th>2010-02-03</th>\n",
              "      <td>NaN</td>\n",
              "      <td>NaN</td>\n",
              "      <td>NaN</td>\n",
              "      <td>NaN</td>\n",
              "      <td>NaN</td>\n",
              "      <td>NaN</td>\n",
              "      <td>NaN</td>\n",
              "      <td>NaN</td>\n",
              "      <td>NaN</td>\n",
              "      <td>NaN</td>\n",
              "      <td>NaN</td>\n",
              "      <td>NaN</td>\n",
              "      <td>NaN</td>\n",
              "      <td>NaN</td>\n",
              "      <td>NaN</td>\n",
              "      <td>NaN</td>\n",
              "      <td>NaN</td>\n",
              "      <td>NaN</td>\n",
              "    </tr>\n",
              "    <tr>\n",
              "      <th>2010-02-16</th>\n",
              "      <td>NaN</td>\n",
              "      <td>NaN</td>\n",
              "      <td>NaN</td>\n",
              "      <td>NaN</td>\n",
              "      <td>NaN</td>\n",
              "      <td>NaN</td>\n",
              "      <td>NaN</td>\n",
              "      <td>NaN</td>\n",
              "      <td>NaN</td>\n",
              "      <td>NaN</td>\n",
              "      <td>NaN</td>\n",
              "      <td>NaN</td>\n",
              "      <td>NaN</td>\n",
              "      <td>NaN</td>\n",
              "      <td>NaN</td>\n",
              "      <td>NaN</td>\n",
              "      <td>NaN</td>\n",
              "      <td>NaN</td>\n",
              "    </tr>\n",
              "    <tr>\n",
              "      <th>2010-04-01</th>\n",
              "      <td>31.106989</td>\n",
              "      <td>14.240126</td>\n",
              "      <td>18.095884</td>\n",
              "      <td>35.932858</td>\n",
              "      <td>19.450001</td>\n",
              "      <td>23.010000</td>\n",
              "      <td>39.858570</td>\n",
              "      <td>24.370001</td>\n",
              "      <td>31.58</td>\n",
              "      <td>28.464285</td>\n",
              "      <td>19.400000</td>\n",
              "      <td>22.950001</td>\n",
              "      <td>33.915714</td>\n",
              "      <td>22.400000</td>\n",
              "      <td>29.350000</td>\n",
              "      <td>1.177526e+10</td>\n",
              "      <td>4.745037e+09</td>\n",
              "      <td>4.710971e+09</td>\n",
              "    </tr>\n",
              "    <tr>\n",
              "      <th>2010-05-05</th>\n",
              "      <td>NaN</td>\n",
              "      <td>NaN</td>\n",
              "      <td>NaN</td>\n",
              "      <td>NaN</td>\n",
              "      <td>NaN</td>\n",
              "      <td>NaN</td>\n",
              "      <td>NaN</td>\n",
              "      <td>NaN</td>\n",
              "      <td>NaN</td>\n",
              "      <td>NaN</td>\n",
              "      <td>NaN</td>\n",
              "      <td>NaN</td>\n",
              "      <td>NaN</td>\n",
              "      <td>NaN</td>\n",
              "      <td>NaN</td>\n",
              "      <td>NaN</td>\n",
              "      <td>NaN</td>\n",
              "      <td>NaN</td>\n",
              "    </tr>\n",
              "  </tbody>\n",
              "</table>\n",
              "</div>"
            ],
            "text/plain": [
              "            Adj Close             ...        Volume              \n",
              "                 AAPL       INTC  ...          INTC          MSFT\n",
              "Date                              ...                            \n",
              "2010-01-01  29.062700  16.189905  ...  3.925473e+09  3.544531e+09\n",
              "2010-02-03        NaN        NaN  ...           NaN           NaN\n",
              "2010-02-16        NaN        NaN  ...           NaN           NaN\n",
              "2010-04-01  31.106989  14.240126  ...  4.745037e+09  4.710971e+09\n",
              "2010-05-05        NaN        NaN  ...           NaN           NaN\n",
              "\n",
              "[5 rows x 18 columns]"
            ]
          },
          "metadata": {
            "tags": []
          },
          "execution_count": 4
        }
      ]
    },
    {
      "cell_type": "code",
      "metadata": {
        "id": "ycVGua3tSvxc",
        "outputId": "d3029c96-1694-405b-cfba-b44907ca6161",
        "colab": {
          "base_uri": "https://localhost:8080/",
          "height": 390
        }
      },
      "source": [
        "stock_prices=stock_prices['Adj Close']\n",
        "stock_prices.dropna(inplace=True)\n",
        "stock_prices.head(10)"
      ],
      "execution_count": null,
      "outputs": [
        {
          "output_type": "execute_result",
          "data": {
            "text/html": [
              "<div>\n",
              "<style scoped>\n",
              "    .dataframe tbody tr th:only-of-type {\n",
              "        vertical-align: middle;\n",
              "    }\n",
              "\n",
              "    .dataframe tbody tr th {\n",
              "        vertical-align: top;\n",
              "    }\n",
              "\n",
              "    .dataframe thead th {\n",
              "        text-align: right;\n",
              "    }\n",
              "</style>\n",
              "<table border=\"1\" class=\"dataframe\">\n",
              "  <thead>\n",
              "    <tr style=\"text-align: right;\">\n",
              "      <th></th>\n",
              "      <th>AAPL</th>\n",
              "      <th>INTC</th>\n",
              "      <th>MSFT</th>\n",
              "    </tr>\n",
              "    <tr>\n",
              "      <th>Date</th>\n",
              "      <th></th>\n",
              "      <th></th>\n",
              "      <th></th>\n",
              "    </tr>\n",
              "  </thead>\n",
              "  <tbody>\n",
              "    <tr>\n",
              "      <th>2010-01-01</th>\n",
              "      <td>29.062700</td>\n",
              "      <td>16.189905</td>\n",
              "      <td>22.927485</td>\n",
              "    </tr>\n",
              "    <tr>\n",
              "      <th>2010-04-01</th>\n",
              "      <td>31.106989</td>\n",
              "      <td>14.240126</td>\n",
              "      <td>18.095884</td>\n",
              "    </tr>\n",
              "    <tr>\n",
              "      <th>2010-07-01</th>\n",
              "      <td>35.091660</td>\n",
              "      <td>14.156242</td>\n",
              "      <td>19.346718</td>\n",
              "    </tr>\n",
              "    <tr>\n",
              "      <th>2010-10-01</th>\n",
              "      <td>39.891342</td>\n",
              "      <td>15.623785</td>\n",
              "      <td>22.166080</td>\n",
              "    </tr>\n",
              "    <tr>\n",
              "      <th>2011-01-01</th>\n",
              "      <td>43.100601</td>\n",
              "      <td>15.109674</td>\n",
              "      <td>20.288603</td>\n",
              "    </tr>\n",
              "    <tr>\n",
              "      <th>2011-04-01</th>\n",
              "      <td>41.512661</td>\n",
              "      <td>16.732658</td>\n",
              "      <td>20.898834</td>\n",
              "    </tr>\n",
              "    <tr>\n",
              "      <th>2011-07-01</th>\n",
              "      <td>47.158245</td>\n",
              "      <td>16.240023</td>\n",
              "      <td>20.137753</td>\n",
              "    </tr>\n",
              "    <tr>\n",
              "      <th>2011-10-01</th>\n",
              "      <td>50.086784</td>\n",
              "      <td>18.634745</td>\n",
              "      <td>21.136017</td>\n",
              "    </tr>\n",
              "    <tr>\n",
              "      <th>2012-01-01</th>\n",
              "      <td>74.146996</td>\n",
              "      <td>21.800579</td>\n",
              "      <td>26.463120</td>\n",
              "    </tr>\n",
              "    <tr>\n",
              "      <th>2012-04-01</th>\n",
              "      <td>72.223900</td>\n",
              "      <td>20.826027</td>\n",
              "      <td>25.258402</td>\n",
              "    </tr>\n",
              "  </tbody>\n",
              "</table>\n",
              "</div>"
            ],
            "text/plain": [
              "                 AAPL       INTC       MSFT\n",
              "Date                                       \n",
              "2010-01-01  29.062700  16.189905  22.927485\n",
              "2010-04-01  31.106989  14.240126  18.095884\n",
              "2010-07-01  35.091660  14.156242  19.346718\n",
              "2010-10-01  39.891342  15.623785  22.166080\n",
              "2011-01-01  43.100601  15.109674  20.288603\n",
              "2011-04-01  41.512661  16.732658  20.898834\n",
              "2011-07-01  47.158245  16.240023  20.137753\n",
              "2011-10-01  50.086784  18.634745  21.136017\n",
              "2012-01-01  74.146996  21.800579  26.463120\n",
              "2012-04-01  72.223900  20.826027  25.258402"
            ]
          },
          "metadata": {
            "tags": []
          },
          "execution_count": 4
        }
      ]
    },
    {
      "cell_type": "code",
      "metadata": {
        "id": "A9vNTWK9TNHX",
        "outputId": "4638a9b7-5812-4742-c0e7-c8ee077999d4",
        "colab": {
          "base_uri": "https://localhost:8080/",
          "height": 297
        }
      },
      "source": [
        "# Accordingly, `mean` tells us that stock price of Apple is the highest among 3 companies and, not surprisingly,\n",
        "# it has the most volatility(High Std dev) indicating that Apple may be the most risky stock.\n",
        "stock_prices.describe()"
      ],
      "execution_count": null,
      "outputs": [
        {
          "output_type": "execute_result",
          "data": {
            "text/html": [
              "<div>\n",
              "<style scoped>\n",
              "    .dataframe tbody tr th:only-of-type {\n",
              "        vertical-align: middle;\n",
              "    }\n",
              "\n",
              "    .dataframe tbody tr th {\n",
              "        vertical-align: top;\n",
              "    }\n",
              "\n",
              "    .dataframe thead th {\n",
              "        text-align: right;\n",
              "    }\n",
              "</style>\n",
              "<table border=\"1\" class=\"dataframe\">\n",
              "  <thead>\n",
              "    <tr style=\"text-align: right;\">\n",
              "      <th></th>\n",
              "      <th>AAPL</th>\n",
              "      <th>INTC</th>\n",
              "      <th>MSFT</th>\n",
              "    </tr>\n",
              "  </thead>\n",
              "  <tbody>\n",
              "    <tr>\n",
              "      <th>count</th>\n",
              "      <td>37.000000</td>\n",
              "      <td>37.000000</td>\n",
              "      <td>37.000000</td>\n",
              "    </tr>\n",
              "    <tr>\n",
              "      <th>mean</th>\n",
              "      <td>94.328986</td>\n",
              "      <td>26.994642</td>\n",
              "      <td>45.539768</td>\n",
              "    </tr>\n",
              "    <tr>\n",
              "      <th>std</th>\n",
              "      <td>47.305536</td>\n",
              "      <td>10.465013</td>\n",
              "      <td>26.820867</td>\n",
              "    </tr>\n",
              "    <tr>\n",
              "      <th>min</th>\n",
              "      <td>29.062700</td>\n",
              "      <td>14.156242</td>\n",
              "      <td>18.095884</td>\n",
              "    </tr>\n",
              "    <tr>\n",
              "      <th>25%</th>\n",
              "      <td>55.230373</td>\n",
              "      <td>17.836348</td>\n",
              "      <td>24.132721</td>\n",
              "    </tr>\n",
              "    <tr>\n",
              "      <th>50%</th>\n",
              "      <td>89.365730</td>\n",
              "      <td>26.315273</td>\n",
              "      <td>36.510292</td>\n",
              "    </tr>\n",
              "    <tr>\n",
              "      <th>75%</th>\n",
              "      <td>115.116539</td>\n",
              "      <td>32.966618</td>\n",
              "      <td>58.161533</td>\n",
              "    </tr>\n",
              "    <tr>\n",
              "      <th>max</th>\n",
              "      <td>219.732910</td>\n",
              "      <td>49.045139</td>\n",
              "      <td>111.174431</td>\n",
              "    </tr>\n",
              "  </tbody>\n",
              "</table>\n",
              "</div>"
            ],
            "text/plain": [
              "             AAPL       INTC        MSFT\n",
              "count   37.000000  37.000000   37.000000\n",
              "mean    94.328986  26.994642   45.539768\n",
              "std     47.305536  10.465013   26.820867\n",
              "min     29.062700  14.156242   18.095884\n",
              "25%     55.230373  17.836348   24.132721\n",
              "50%     89.365730  26.315273   36.510292\n",
              "75%    115.116539  32.966618   58.161533\n",
              "max    219.732910  49.045139  111.174431"
            ]
          },
          "metadata": {
            "tags": []
          },
          "execution_count": 5
        }
      ]
    },
    {
      "cell_type": "code",
      "metadata": {
        "id": "q1ihkrZ3TWnt",
        "outputId": "22fec7d3-173b-40d8-db8b-76fff29f2989",
        "colab": {
          "base_uri": "https://localhost:8080/",
          "height": 308
        }
      },
      "source": [
        "fig = plt.figure()\n",
        "ax1 = fig.add_axes([0.1,0.1,0.8,0.8])\n",
        "ax1.plot(stock_prices.AAPL,label= 'Apple')\n",
        "ax1.plot(stock_prices.INTC,label='Intel')\n",
        "ax1.plot(stock_prices.MSFT,label='Microsoft')\n",
        "ax1.set_xlabel('Date')\n",
        "ax1.set_ylabel('Stock Price')\n",
        "ax1.set_title('Stock Prices')\n",
        "plt.legend()\n",
        "plt.show()"
      ],
      "execution_count": null,
      "outputs": [
        {
          "output_type": "display_data",
          "data": {
            "image/png": "[encoded data removed]",
            "text/plain": [
              "<Figure size 432x288 with 1 Axes>"
            ]
          },
          "metadata": {
            "tags": [],
            "needs_background": "light"
          }
        }
      ]
    },
    {
      "cell_type": "code",
      "metadata": {
        "id": "gzB4ofvbTe_N",
        "outputId": "d5f3956b-b931-4516-802d-e0b0a7fe69c0",
        "colab": {
          "base_uri": "https://localhost:8080/",
          "height": 235
        }
      },
      "source": [
        "returns=stock_prices.pct_change() # Gives the daily returns dataframe after each quater\n",
        "returns.dropna(inplace=True)\n",
        "returns.head()"
      ],
      "execution_count": null,
      "outputs": [
        {
          "output_type": "execute_result",
          "data": {
            "text/html": [
              "<div>\n",
              "<style scoped>\n",
              "    .dataframe tbody tr th:only-of-type {\n",
              "        vertical-align: middle;\n",
              "    }\n",
              "\n",
              "    .dataframe tbody tr th {\n",
              "        vertical-align: top;\n",
              "    }\n",
              "\n",
              "    .dataframe thead th {\n",
              "        text-align: right;\n",
              "    }\n",
              "</style>\n",
              "<table border=\"1\" class=\"dataframe\">\n",
              "  <thead>\n",
              "    <tr style=\"text-align: right;\">\n",
              "      <th></th>\n",
              "      <th>AAPL</th>\n",
              "      <th>INTC</th>\n",
              "      <th>MSFT</th>\n",
              "    </tr>\n",
              "    <tr>\n",
              "      <th>Date</th>\n",
              "      <th></th>\n",
              "      <th></th>\n",
              "      <th></th>\n",
              "    </tr>\n",
              "  </thead>\n",
              "  <tbody>\n",
              "    <tr>\n",
              "      <th>2010-04-01</th>\n",
              "      <td>0.070341</td>\n",
              "      <td>-0.120432</td>\n",
              "      <td>-0.210734</td>\n",
              "    </tr>\n",
              "    <tr>\n",
              "      <th>2010-07-01</th>\n",
              "      <td>0.128096</td>\n",
              "      <td>-0.005891</td>\n",
              "      <td>0.069123</td>\n",
              "    </tr>\n",
              "    <tr>\n",
              "      <th>2010-10-01</th>\n",
              "      <td>0.136776</td>\n",
              "      <td>0.103668</td>\n",
              "      <td>0.145728</td>\n",
              "    </tr>\n",
              "    <tr>\n",
              "      <th>2011-01-01</th>\n",
              "      <td>0.080450</td>\n",
              "      <td>-0.032906</td>\n",
              "      <td>-0.084700</td>\n",
              "    </tr>\n",
              "    <tr>\n",
              "      <th>2011-04-01</th>\n",
              "      <td>-0.036843</td>\n",
              "      <td>0.107414</td>\n",
              "      <td>0.030078</td>\n",
              "    </tr>\n",
              "  </tbody>\n",
              "</table>\n",
              "</div>"
            ],
            "text/plain": [
              "                AAPL      INTC      MSFT\n",
              "Date                                    \n",
              "2010-04-01  0.070341 -0.120432 -0.210734\n",
              "2010-07-01  0.128096 -0.005891  0.069123\n",
              "2010-10-01  0.136776  0.103668  0.145728\n",
              "2011-01-01  0.080450 -0.032906 -0.084700\n",
              "2011-04-01 -0.036843  0.107414  0.030078"
            ]
          },
          "metadata": {
            "tags": []
          },
          "execution_count": 160
        }
      ]
    },
    {
      "cell_type": "code",
      "metadata": {
        "id": "Ot9MdNneT7gN",
        "outputId": "e43ea03a-525a-41aa-af14-b462fe8e04ff",
        "colab": {
          "base_uri": "https://localhost:8080/",
          "height": 358
        }
      },
      "source": [
        "k=1\n",
        "for i in range(0, len(returns.columns)):\n",
        " plt.subplot(3, 1, k)\n",
        " plt.hist(returns[returns.columns[i]])\n",
        " plt.title('{}'.format(returns.columns[i]))\n",
        " k+=1\n",
        " plt.tight_layout()\n",
        " plt.show()\n",
        "# These histograms are distribution of returns over the 10 year period. \n",
        "# We can see that their are outliers with both 40% return quaterly and -30% return for apple but in lesser volume. Expectation of almost 10percent.\n",
        "# We can see that INTC is more spread out and varying interns of returns. \n",
        "# Microsoft is having majority of data towards right and is left skewed."
      ],
      "execution_count": null,
      "outputs": [
        {
          "output_type": "display_data",
          "data": {
            "image/png": "[encoded data removed]",
            "text/plain": [
              "<Figure size 432x288 with 1 Axes>"
            ]
          },
          "metadata": {
            "tags": [],
            "needs_background": "light"
          }
        },
        {
          "output_type": "display_data",
          "data": {
            "image/png": "[encoded data removed]",
            "text/plain": [
              "<Figure size 432x288 with 1 Axes>"
            ]
          },
          "metadata": {
            "tags": [],
            "needs_background": "light"
          }
        },
        {
          "output_type": "display_data",
          "data": {
            "image/png": "[encoded data removed]",
            "text/plain": [
              "<Figure size 432x288 with 1 Axes>"
            ]
          },
          "metadata": {
            "tags": [],
            "needs_background": "light"
          }
        }
      ]
    },
    {
      "cell_type": "code",
      "metadata": {
        "id": "uvY1mGPoUGqG",
        "outputId": "6c9788ee-098d-4ed4-c0b4-542fde1e2432",
        "colab": {
          "base_uri": "https://localhost:8080/",
          "height": 281
        }
      },
      "source": [
        "# Lets compute correlation analysis Using Heatmap.\n",
        "heat_corr=returns.corr()\n",
        "sns.heatmap(heat_corr, annot=True)\n",
        "plt.title('Correlation Matrix')\n",
        "plt.show()\n",
        "# Microsoft and Intel has .66 correlation which is resonable and other stocks are not very much correlated."
      ],
      "execution_count": null,
      "outputs": [
        {
          "output_type": "display_data",
          "data": {
            "image/png": "[encoded data removed]",
            "text/plain": [
              "<Figure size 432x288 with 2 Axes>"
            ]
          },
          "metadata": {
            "tags": [],
            "needs_background": "light"
          }
        }
      ]
    },
    {
      "cell_type": "markdown",
      "metadata": {
        "id": "9yAMD6nnViee"
      },
      "source": [
        "# Collecting Macroeconomic Variables.\n",
        "    1) Quarterly GDP per capita growth\n",
        "    2) Quarterly inflation growth \n",
        "    3) quarterly oil price growth.\n"
      ]
    },
    {
      "cell_type": "code",
      "metadata": {
        "id": "edORNCz6Vylv"
      },
      "source": [
        "# We use FredApi (FRED data provided by the Federal Reserve Bank of St. Louis.)\n",
        "fred = Fred(api_key = '4338b0ca0ecffaafebbd4d161aa8a0cb')"
      ],
      "execution_count": null,
      "outputs": []
    },
    {
      "cell_type": "code",
      "metadata": {
        "id": "u7-ByYVRV1hR",
        "outputId": "15c8329d-0f7b-4ca8-9317-64b24b2328f7",
        "colab": {
          "base_uri": "https://localhost:8080/",
          "height": 1000
        }
      },
      "source": [
        "# To find the best-fit risk free rate\n",
        "fred.search('risk free')"
      ],
      "execution_count": null,
      "outputs": [
        {
          "output_type": "execute_result",
          "data": {
            "text/html": [
              "<div>\n",
              "<style scoped>\n",
              "    .dataframe tbody tr th:only-of-type {\n",
              "        vertical-align: middle;\n",
              "    }\n",
              "\n",
              "    .dataframe tbody tr th {\n",
              "        vertical-align: top;\n",
              "    }\n",
              "\n",
              "    .dataframe thead th {\n",
              "        text-align: right;\n",
              "    }\n",
              "</style>\n",
              "<table border=\"1\" class=\"dataframe\">\n",
              "  <thead>\n",
              "    <tr style=\"text-align: right;\">\n",
              "      <th></th>\n",
              "      <th>id</th>\n",
              "      <th>realtime_start</th>\n",
              "      <th>realtime_end</th>\n",
              "      <th>title</th>\n",
              "      <th>observation_start</th>\n",
              "      <th>observation_end</th>\n",
              "      <th>frequency</th>\n",
              "      <th>frequency_short</th>\n",
              "      <th>units</th>\n",
              "      <th>units_short</th>\n",
              "      <th>seasonal_adjustment</th>\n",
              "      <th>seasonal_adjustment_short</th>\n",
              "      <th>last_updated</th>\n",
              "      <th>popularity</th>\n",
              "      <th>notes</th>\n",
              "    </tr>\n",
              "    <tr>\n",
              "      <th>series id</th>\n",
              "      <th></th>\n",
              "      <th></th>\n",
              "      <th></th>\n",
              "      <th></th>\n",
              "      <th></th>\n",
              "      <th></th>\n",
              "      <th></th>\n",
              "      <th></th>\n",
              "      <th></th>\n",
              "      <th></th>\n",
              "      <th></th>\n",
              "      <th></th>\n",
              "      <th></th>\n",
              "      <th></th>\n",
              "      <th></th>\n",
              "    </tr>\n",
              "  </thead>\n",
              "  <tbody>\n",
              "    <tr>\n",
              "      <th>DGS10</th>\n",
              "      <td>DGS10</td>\n",
              "      <td>2020-08-04</td>\n",
              "      <td>2020-08-04</td>\n",
              "      <td>10-Year Treasury Constant Maturity Rate</td>\n",
              "      <td>1962-01-02</td>\n",
              "      <td>2020-07-31</td>\n",
              "      <td>Daily</td>\n",
              "      <td>D</td>\n",
              "      <td>Percent</td>\n",
              "      <td>%</td>\n",
              "      <td>Not Seasonally Adjusted</td>\n",
              "      <td>NSA</td>\n",
              "      <td>2020-08-03 15:23:01-05:00</td>\n",
              "      <td>96</td>\n",
              "      <td>For further information regarding treasury con...</td>\n",
              "    </tr>\n",
              "    <tr>\n",
              "      <th>GS10</th>\n",
              "      <td>GS10</td>\n",
              "      <td>2020-08-04</td>\n",
              "      <td>2020-08-04</td>\n",
              "      <td>10-Year Treasury Constant Maturity Rate</td>\n",
              "      <td>1953-04-01</td>\n",
              "      <td>2020-07-01</td>\n",
              "      <td>Monthly</td>\n",
              "      <td>M</td>\n",
              "      <td>Percent</td>\n",
              "      <td>%</td>\n",
              "      <td>Not Seasonally Adjusted</td>\n",
              "      <td>NSA</td>\n",
              "      <td>2020-08-03 15:21:01-05:00</td>\n",
              "      <td>75</td>\n",
              "      <td>Averages of business days. For further informa...</td>\n",
              "    </tr>\n",
              "    <tr>\n",
              "      <th>WGS10YR</th>\n",
              "      <td>WGS10YR</td>\n",
              "      <td>2020-08-04</td>\n",
              "      <td>2020-08-04</td>\n",
              "      <td>10-Year Treasury Constant Maturity Rate</td>\n",
              "      <td>1962-01-05</td>\n",
              "      <td>2020-07-31</td>\n",
              "      <td>Weekly, Ending Friday</td>\n",
              "      <td>W</td>\n",
              "      <td>Percent</td>\n",
              "      <td>%</td>\n",
              "      <td>Not Seasonally Adjusted</td>\n",
              "      <td>NSA</td>\n",
              "      <td>2020-08-03 15:21:10-05:00</td>\n",
              "      <td>66</td>\n",
              "      <td>Averages of business days. For further informa...</td>\n",
              "    </tr>\n",
              "    <tr>\n",
              "      <th>DGS1</th>\n",
              "      <td>DGS1</td>\n",
              "      <td>2020-08-04</td>\n",
              "      <td>2020-08-04</td>\n",
              "      <td>1-Year Treasury Constant Maturity Rate</td>\n",
              "      <td>1962-01-02</td>\n",
              "      <td>2020-07-31</td>\n",
              "      <td>Daily</td>\n",
              "      <td>D</td>\n",
              "      <td>Percent</td>\n",
              "      <td>%</td>\n",
              "      <td>Not Seasonally Adjusted</td>\n",
              "      <td>NSA</td>\n",
              "      <td>2020-08-03 15:23:08-05:00</td>\n",
              "      <td>81</td>\n",
              "      <td>For further information regarding treasury con...</td>\n",
              "    </tr>\n",
              "    <tr>\n",
              "      <th>GS1</th>\n",
              "      <td>GS1</td>\n",
              "      <td>2020-08-04</td>\n",
              "      <td>2020-08-04</td>\n",
              "      <td>1-Year Treasury Constant Maturity Rate</td>\n",
              "      <td>1953-04-01</td>\n",
              "      <td>2020-07-01</td>\n",
              "      <td>Monthly</td>\n",
              "      <td>M</td>\n",
              "      <td>Percent</td>\n",
              "      <td>%</td>\n",
              "      <td>Not Seasonally Adjusted</td>\n",
              "      <td>NSA</td>\n",
              "      <td>2020-08-03 15:22:37-05:00</td>\n",
              "      <td>57</td>\n",
              "      <td>Averages of business days. For further informa...</td>\n",
              "    </tr>\n",
              "    <tr>\n",
              "      <th>WGS1YR</th>\n",
              "      <td>WGS1YR</td>\n",
              "      <td>2020-08-04</td>\n",
              "      <td>2020-08-04</td>\n",
              "      <td>1-Year Treasury Constant Maturity Rate</td>\n",
              "      <td>1962-01-05</td>\n",
              "      <td>2020-07-31</td>\n",
              "      <td>Weekly, Ending Friday</td>\n",
              "      <td>W</td>\n",
              "      <td>Percent</td>\n",
              "      <td>%</td>\n",
              "      <td>Not Seasonally Adjusted</td>\n",
              "      <td>NSA</td>\n",
              "      <td>2020-08-03 15:22:34-05:00</td>\n",
              "      <td>57</td>\n",
              "      <td>Averages of business days. For further informa...</td>\n",
              "    </tr>\n",
              "    <tr>\n",
              "      <th>DGS5</th>\n",
              "      <td>DGS5</td>\n",
              "      <td>2020-08-04</td>\n",
              "      <td>2020-08-04</td>\n",
              "      <td>5-Year Treasury Constant Maturity Rate</td>\n",
              "      <td>1962-01-02</td>\n",
              "      <td>2020-07-31</td>\n",
              "      <td>Daily</td>\n",
              "      <td>D</td>\n",
              "      <td>Percent</td>\n",
              "      <td>%</td>\n",
              "      <td>Not Seasonally Adjusted</td>\n",
              "      <td>NSA</td>\n",
              "      <td>2020-08-03 15:22:22-05:00</td>\n",
              "      <td>77</td>\n",
              "      <td>For further information regarding treasury con...</td>\n",
              "    </tr>\n",
              "    <tr>\n",
              "      <th>GS5</th>\n",
              "      <td>GS5</td>\n",
              "      <td>2020-08-04</td>\n",
              "      <td>2020-08-04</td>\n",
              "      <td>5-Year Treasury Constant Maturity Rate</td>\n",
              "      <td>1953-04-01</td>\n",
              "      <td>2020-07-01</td>\n",
              "      <td>Monthly</td>\n",
              "      <td>M</td>\n",
              "      <td>Percent</td>\n",
              "      <td>%</td>\n",
              "      <td>Not Seasonally Adjusted</td>\n",
              "      <td>NSA</td>\n",
              "      <td>2020-08-03 15:22:40-05:00</td>\n",
              "      <td>57</td>\n",
              "      <td>Averages of business days. For further informa...</td>\n",
              "    </tr>\n",
              "    <tr>\n",
              "      <th>WGS5YR</th>\n",
              "      <td>WGS5YR</td>\n",
              "      <td>2020-08-04</td>\n",
              "      <td>2020-08-04</td>\n",
              "      <td>5-Year Treasury Constant Maturity Rate</td>\n",
              "      <td>1962-01-05</td>\n",
              "      <td>2020-07-31</td>\n",
              "      <td>Weekly, Ending Friday</td>\n",
              "      <td>W</td>\n",
              "      <td>Percent</td>\n",
              "      <td>%</td>\n",
              "      <td>Not Seasonally Adjusted</td>\n",
              "      <td>NSA</td>\n",
              "      <td>2020-08-03 15:23:12-05:00</td>\n",
              "      <td>48</td>\n",
              "      <td>Averages of business days. For further informa...</td>\n",
              "    </tr>\n",
              "    <tr>\n",
              "      <th>DGS30</th>\n",
              "      <td>DGS30</td>\n",
              "      <td>2020-08-04</td>\n",
              "      <td>2020-08-04</td>\n",
              "      <td>30-Year Treasury Constant Maturity Rate</td>\n",
              "      <td>1977-02-15</td>\n",
              "      <td>2020-07-31</td>\n",
              "      <td>Daily</td>\n",
              "      <td>D</td>\n",
              "      <td>Percent</td>\n",
              "      <td>%</td>\n",
              "      <td>Not Seasonally Adjusted</td>\n",
              "      <td>NSA</td>\n",
              "      <td>2020-08-03 15:23:10-05:00</td>\n",
              "      <td>76</td>\n",
              "      <td>Yields on actively traded non-inflation-indexe...</td>\n",
              "    </tr>\n",
              "    <tr>\n",
              "      <th>DGS2</th>\n",
              "      <td>DGS2</td>\n",
              "      <td>2020-08-04</td>\n",
              "      <td>2020-08-04</td>\n",
              "      <td>2-Year Treasury Constant Maturity Rate</td>\n",
              "      <td>1976-06-01</td>\n",
              "      <td>2020-07-31</td>\n",
              "      <td>Daily</td>\n",
              "      <td>D</td>\n",
              "      <td>Percent</td>\n",
              "      <td>%</td>\n",
              "      <td>Not Seasonally Adjusted</td>\n",
              "      <td>NSA</td>\n",
              "      <td>2020-08-03 15:22:23-05:00</td>\n",
              "      <td>76</td>\n",
              "      <td>For further information regarding treasury con...</td>\n",
              "    </tr>\n",
              "    <tr>\n",
              "      <th>GS30</th>\n",
              "      <td>GS30</td>\n",
              "      <td>2020-08-04</td>\n",
              "      <td>2020-08-04</td>\n",
              "      <td>30-Year Treasury Constant Maturity Rate</td>\n",
              "      <td>1977-02-01</td>\n",
              "      <td>2020-07-01</td>\n",
              "      <td>Monthly</td>\n",
              "      <td>M</td>\n",
              "      <td>Percent</td>\n",
              "      <td>%</td>\n",
              "      <td>Not Seasonally Adjusted</td>\n",
              "      <td>NSA</td>\n",
              "      <td>2020-08-03 15:22:46-05:00</td>\n",
              "      <td>49</td>\n",
              "      <td>Yields on actively traded non-inflation-indexe...</td>\n",
              "    </tr>\n",
              "    <tr>\n",
              "      <th>DGS3MO</th>\n",
              "      <td>DGS3MO</td>\n",
              "      <td>2020-08-04</td>\n",
              "      <td>2020-08-04</td>\n",
              "      <td>3-Month Treasury Constant Maturity Rate</td>\n",
              "      <td>1981-09-01</td>\n",
              "      <td>2020-07-31</td>\n",
              "      <td>Daily</td>\n",
              "      <td>D</td>\n",
              "      <td>Percent</td>\n",
              "      <td>%</td>\n",
              "      <td>Not Seasonally Adjusted</td>\n",
              "      <td>NSA</td>\n",
              "      <td>2020-08-03 15:22:24-05:00</td>\n",
              "      <td>74</td>\n",
              "      <td>For further information regarding treasury con...</td>\n",
              "    </tr>\n",
              "    <tr>\n",
              "      <th>WGS30YR</th>\n",
              "      <td>WGS30YR</td>\n",
              "      <td>2020-08-04</td>\n",
              "      <td>2020-08-04</td>\n",
              "      <td>30-Year Treasury Constant Maturity Rate</td>\n",
              "      <td>1977-02-18</td>\n",
              "      <td>2020-07-31</td>\n",
              "      <td>Weekly, Ending Friday</td>\n",
              "      <td>W</td>\n",
              "      <td>Percent</td>\n",
              "      <td>%</td>\n",
              "      <td>Not Seasonally Adjusted</td>\n",
              "      <td>NSA</td>\n",
              "      <td>2020-08-03 15:23:19-05:00</td>\n",
              "      <td>34</td>\n",
              "      <td>Yields on actively traded non-inflation-indexe...</td>\n",
              "    </tr>\n",
              "    <tr>\n",
              "      <th>GS2</th>\n",
              "      <td>GS2</td>\n",
              "      <td>2020-08-04</td>\n",
              "      <td>2020-08-04</td>\n",
              "      <td>2-Year Treasury Constant Maturity Rate</td>\n",
              "      <td>1976-06-01</td>\n",
              "      <td>2020-07-01</td>\n",
              "      <td>Monthly</td>\n",
              "      <td>M</td>\n",
              "      <td>Percent</td>\n",
              "      <td>%</td>\n",
              "      <td>Not Seasonally Adjusted</td>\n",
              "      <td>NSA</td>\n",
              "      <td>2020-08-03 15:23:18-05:00</td>\n",
              "      <td>43</td>\n",
              "      <td>Averages of business days. For further informa...</td>\n",
              "    </tr>\n",
              "    <tr>\n",
              "      <th>WGS2YR</th>\n",
              "      <td>WGS2YR</td>\n",
              "      <td>2020-08-04</td>\n",
              "      <td>2020-08-04</td>\n",
              "      <td>2-Year Treasury Constant Maturity Rate</td>\n",
              "      <td>1976-06-04</td>\n",
              "      <td>2020-07-31</td>\n",
              "      <td>Weekly, Ending Friday</td>\n",
              "      <td>W</td>\n",
              "      <td>Percent</td>\n",
              "      <td>%</td>\n",
              "      <td>Not Seasonally Adjusted</td>\n",
              "      <td>NSA</td>\n",
              "      <td>2020-08-03 15:23:18-05:00</td>\n",
              "      <td>37</td>\n",
              "      <td>Averages of business days. For further informa...</td>\n",
              "    </tr>\n",
              "    <tr>\n",
              "      <th>GS3M</th>\n",
              "      <td>GS3M</td>\n",
              "      <td>2020-08-04</td>\n",
              "      <td>2020-08-04</td>\n",
              "      <td>3-Month Treasury Constant Maturity Rate</td>\n",
              "      <td>1981-09-01</td>\n",
              "      <td>2020-07-01</td>\n",
              "      <td>Monthly</td>\n",
              "      <td>M</td>\n",
              "      <td>Percent</td>\n",
              "      <td>%</td>\n",
              "      <td>Not Seasonally Adjusted</td>\n",
              "      <td>NSA</td>\n",
              "      <td>2020-08-03 15:22:58-05:00</td>\n",
              "      <td>50</td>\n",
              "      <td>Averages of business days. For further informa...</td>\n",
              "    </tr>\n",
              "    <tr>\n",
              "      <th>WGS3MO</th>\n",
              "      <td>WGS3MO</td>\n",
              "      <td>2020-08-04</td>\n",
              "      <td>2020-08-04</td>\n",
              "      <td>3-Month Treasury Constant Maturity Rate</td>\n",
              "      <td>1981-09-04</td>\n",
              "      <td>2020-07-31</td>\n",
              "      <td>Weekly, Ending Friday</td>\n",
              "      <td>W</td>\n",
              "      <td>Percent</td>\n",
              "      <td>%</td>\n",
              "      <td>Not Seasonally Adjusted</td>\n",
              "      <td>NSA</td>\n",
              "      <td>2020-08-03 15:23:21-05:00</td>\n",
              "      <td>29</td>\n",
              "      <td>Averages of business days. For further informa...</td>\n",
              "    </tr>\n",
              "    <tr>\n",
              "      <th>DGS1MO</th>\n",
              "      <td>DGS1MO</td>\n",
              "      <td>2020-08-04</td>\n",
              "      <td>2020-08-04</td>\n",
              "      <td>1-Month Treasury Constant Maturity Rate</td>\n",
              "      <td>2001-07-31</td>\n",
              "      <td>2020-07-31</td>\n",
              "      <td>Daily</td>\n",
              "      <td>D</td>\n",
              "      <td>Percent</td>\n",
              "      <td>%</td>\n",
              "      <td>Not Seasonally Adjusted</td>\n",
              "      <td>NSA</td>\n",
              "      <td>2020-08-03 15:22:31-05:00</td>\n",
              "      <td>69</td>\n",
              "      <td>For further information regarding treasury con...</td>\n",
              "    </tr>\n",
              "    <tr>\n",
              "      <th>DGS20</th>\n",
              "      <td>DGS20</td>\n",
              "      <td>2020-08-04</td>\n",
              "      <td>2020-08-04</td>\n",
              "      <td>20-Year Treasury Constant Maturity Rate</td>\n",
              "      <td>1962-01-02</td>\n",
              "      <td>2020-07-31</td>\n",
              "      <td>Daily</td>\n",
              "      <td>D</td>\n",
              "      <td>Percent</td>\n",
              "      <td>%</td>\n",
              "      <td>Not Seasonally Adjusted</td>\n",
              "      <td>NSA</td>\n",
              "      <td>2020-08-03 15:23:11-05:00</td>\n",
              "      <td>66</td>\n",
              "      <td>For further information regarding treasury con...</td>\n",
              "    </tr>\n",
              "    <tr>\n",
              "      <th>GS20</th>\n",
              "      <td>GS20</td>\n",
              "      <td>2020-08-04</td>\n",
              "      <td>2020-08-04</td>\n",
              "      <td>20-Year Treasury Constant Maturity Rate</td>\n",
              "      <td>1953-04-01</td>\n",
              "      <td>2020-07-01</td>\n",
              "      <td>Monthly</td>\n",
              "      <td>M</td>\n",
              "      <td>Percent</td>\n",
              "      <td>%</td>\n",
              "      <td>Not Seasonally Adjusted</td>\n",
              "      <td>NSA</td>\n",
              "      <td>2020-08-03 15:21:13-05:00</td>\n",
              "      <td>57</td>\n",
              "      <td>Averages of business days. For information on ...</td>\n",
              "    </tr>\n",
              "    <tr>\n",
              "      <th>GS1M</th>\n",
              "      <td>GS1M</td>\n",
              "      <td>2020-08-04</td>\n",
              "      <td>2020-08-04</td>\n",
              "      <td>1-Month Treasury Constant Maturity Rate</td>\n",
              "      <td>2001-07-01</td>\n",
              "      <td>2020-07-01</td>\n",
              "      <td>Monthly</td>\n",
              "      <td>M</td>\n",
              "      <td>Percent</td>\n",
              "      <td>%</td>\n",
              "      <td>Not Seasonally Adjusted</td>\n",
              "      <td>NSA</td>\n",
              "      <td>2020-08-03 15:23:14-05:00</td>\n",
              "      <td>46</td>\n",
              "      <td>Averages of business days. For further informa...</td>\n",
              "    </tr>\n",
              "    <tr>\n",
              "      <th>DGS3</th>\n",
              "      <td>DGS3</td>\n",
              "      <td>2020-08-04</td>\n",
              "      <td>2020-08-04</td>\n",
              "      <td>3-Year Treasury Constant Maturity Rate</td>\n",
              "      <td>1962-01-02</td>\n",
              "      <td>2020-07-31</td>\n",
              "      <td>Daily</td>\n",
              "      <td>D</td>\n",
              "      <td>Percent</td>\n",
              "      <td>%</td>\n",
              "      <td>Not Seasonally Adjusted</td>\n",
              "      <td>NSA</td>\n",
              "      <td>2020-08-03 15:22:31-05:00</td>\n",
              "      <td>65</td>\n",
              "      <td>For further information regarding treasury con...</td>\n",
              "    </tr>\n",
              "    <tr>\n",
              "      <th>WGS20YR</th>\n",
              "      <td>WGS20YR</td>\n",
              "      <td>2020-08-04</td>\n",
              "      <td>2020-08-04</td>\n",
              "      <td>20-Year Treasury Constant Maturity Rate</td>\n",
              "      <td>1962-01-05</td>\n",
              "      <td>2020-07-31</td>\n",
              "      <td>Weekly, Ending Friday</td>\n",
              "      <td>W</td>\n",
              "      <td>Percent</td>\n",
              "      <td>%</td>\n",
              "      <td>Not Seasonally Adjusted</td>\n",
              "      <td>NSA</td>\n",
              "      <td>2020-08-03 15:23:23-05:00</td>\n",
              "      <td>15</td>\n",
              "      <td>Averages of business days. For further informa...</td>\n",
              "    </tr>\n",
              "    <tr>\n",
              "      <th>WGS1MO</th>\n",
              "      <td>WGS1MO</td>\n",
              "      <td>2020-08-04</td>\n",
              "      <td>2020-08-04</td>\n",
              "      <td>1-Month Treasury Constant Maturity Rate</td>\n",
              "      <td>2001-08-03</td>\n",
              "      <td>2020-07-31</td>\n",
              "      <td>Weekly, Ending Friday</td>\n",
              "      <td>W</td>\n",
              "      <td>Percent</td>\n",
              "      <td>%</td>\n",
              "      <td>Not Seasonally Adjusted</td>\n",
              "      <td>NSA</td>\n",
              "      <td>2020-08-03 15:23:25-05:00</td>\n",
              "      <td>13</td>\n",
              "      <td>Averages of business days. For further informa...</td>\n",
              "    </tr>\n",
              "    <tr>\n",
              "      <th>GS3</th>\n",
              "      <td>GS3</td>\n",
              "      <td>2020-08-04</td>\n",
              "      <td>2020-08-04</td>\n",
              "      <td>3-Year Treasury Constant Maturity Rate</td>\n",
              "      <td>1953-04-01</td>\n",
              "      <td>2020-07-01</td>\n",
              "      <td>Monthly</td>\n",
              "      <td>M</td>\n",
              "      <td>Percent</td>\n",
              "      <td>%</td>\n",
              "      <td>Not Seasonally Adjusted</td>\n",
              "      <td>NSA</td>\n",
              "      <td>2020-08-03 15:23:15-05:00</td>\n",
              "      <td>46</td>\n",
              "      <td>Averages of business days. For further informa...</td>\n",
              "    </tr>\n",
              "    <tr>\n",
              "      <th>WGS3YR</th>\n",
              "      <td>WGS3YR</td>\n",
              "      <td>2020-08-04</td>\n",
              "      <td>2020-08-04</td>\n",
              "      <td>3-Year Treasury Constant Maturity Rate</td>\n",
              "      <td>1962-01-05</td>\n",
              "      <td>2020-07-31</td>\n",
              "      <td>Weekly, Ending Friday</td>\n",
              "      <td>W</td>\n",
              "      <td>Percent</td>\n",
              "      <td>%</td>\n",
              "      <td>Not Seasonally Adjusted</td>\n",
              "      <td>NSA</td>\n",
              "      <td>2020-08-03 15:21:17-05:00</td>\n",
              "      <td>30</td>\n",
              "      <td>Averages of business days. For further informa...</td>\n",
              "    </tr>\n",
              "    <tr>\n",
              "      <th>DGS7</th>\n",
              "      <td>DGS7</td>\n",
              "      <td>2020-08-04</td>\n",
              "      <td>2020-08-04</td>\n",
              "      <td>7-Year Treasury Constant Maturity Rate</td>\n",
              "      <td>1969-07-01</td>\n",
              "      <td>2020-07-31</td>\n",
              "      <td>Daily</td>\n",
              "      <td>D</td>\n",
              "      <td>Percent</td>\n",
              "      <td>%</td>\n",
              "      <td>Not Seasonally Adjusted</td>\n",
              "      <td>NSA</td>\n",
              "      <td>2020-08-03 15:22:36-05:00</td>\n",
              "      <td>58</td>\n",
              "      <td>For further information regarding treasury con...</td>\n",
              "    </tr>\n",
              "    <tr>\n",
              "      <th>GS7</th>\n",
              "      <td>GS7</td>\n",
              "      <td>2020-08-04</td>\n",
              "      <td>2020-08-04</td>\n",
              "      <td>7-Year Treasury Constant Maturity Rate</td>\n",
              "      <td>1969-07-01</td>\n",
              "      <td>2020-07-01</td>\n",
              "      <td>Monthly</td>\n",
              "      <td>M</td>\n",
              "      <td>Percent</td>\n",
              "      <td>%</td>\n",
              "      <td>Not Seasonally Adjusted</td>\n",
              "      <td>NSA</td>\n",
              "      <td>2020-08-03 15:23:22-05:00</td>\n",
              "      <td>25</td>\n",
              "      <td>Averages of business days. For further informa...</td>\n",
              "    </tr>\n",
              "    <tr>\n",
              "      <th>WGS7YR</th>\n",
              "      <td>WGS7YR</td>\n",
              "      <td>2020-08-04</td>\n",
              "      <td>2020-08-04</td>\n",
              "      <td>7-Year Treasury Constant Maturity Rate</td>\n",
              "      <td>1969-07-04</td>\n",
              "      <td>2020-07-31</td>\n",
              "      <td>Weekly, Ending Friday</td>\n",
              "      <td>W</td>\n",
              "      <td>Percent</td>\n",
              "      <td>%</td>\n",
              "      <td>Not Seasonally Adjusted</td>\n",
              "      <td>NSA</td>\n",
              "      <td>2020-08-03 15:23:21-05:00</td>\n",
              "      <td>22</td>\n",
              "      <td>Averages of business days. For further informa...</td>\n",
              "    </tr>\n",
              "    <tr>\n",
              "      <th>DGS6MO</th>\n",
              "      <td>DGS6MO</td>\n",
              "      <td>2020-08-04</td>\n",
              "      <td>2020-08-04</td>\n",
              "      <td>6-Month Treasury Constant Maturity Rate</td>\n",
              "      <td>1981-09-01</td>\n",
              "      <td>2020-07-31</td>\n",
              "      <td>Daily</td>\n",
              "      <td>D</td>\n",
              "      <td>Percent</td>\n",
              "      <td>%</td>\n",
              "      <td>Not Seasonally Adjusted</td>\n",
              "      <td>NSA</td>\n",
              "      <td>2020-08-03 15:22:51-05:00</td>\n",
              "      <td>51</td>\n",
              "      <td>For further information regarding treasury con...</td>\n",
              "    </tr>\n",
              "    <tr>\n",
              "      <th>GS6M</th>\n",
              "      <td>GS6M</td>\n",
              "      <td>2020-08-04</td>\n",
              "      <td>2020-08-04</td>\n",
              "      <td>6-Month Treasury Constant Maturity Rate</td>\n",
              "      <td>1981-09-01</td>\n",
              "      <td>2020-07-01</td>\n",
              "      <td>Monthly</td>\n",
              "      <td>M</td>\n",
              "      <td>Percent</td>\n",
              "      <td>%</td>\n",
              "      <td>Not Seasonally Adjusted</td>\n",
              "      <td>NSA</td>\n",
              "      <td>2020-08-03 15:23:21-05:00</td>\n",
              "      <td>28</td>\n",
              "      <td>Averages of business days. For further informa...</td>\n",
              "    </tr>\n",
              "    <tr>\n",
              "      <th>WGS6MO</th>\n",
              "      <td>WGS6MO</td>\n",
              "      <td>2020-08-04</td>\n",
              "      <td>2020-08-04</td>\n",
              "      <td>6-Month Treasury Constant Maturity Rate</td>\n",
              "      <td>1981-09-04</td>\n",
              "      <td>2020-07-31</td>\n",
              "      <td>Weekly, Ending Friday</td>\n",
              "      <td>W</td>\n",
              "      <td>Percent</td>\n",
              "      <td>%</td>\n",
              "      <td>Not Seasonally Adjusted</td>\n",
              "      <td>NSA</td>\n",
              "      <td>2020-08-03 15:23:25-05:00</td>\n",
              "      <td>10</td>\n",
              "      <td>Averages of business days. For further informa...</td>\n",
              "    </tr>\n",
              "    <tr>\n",
              "      <th>CRESD678FRBCLE</th>\n",
              "      <td>CRESD678FRBCLE</td>\n",
              "      <td>2020-08-04</td>\n",
              "      <td>2020-08-04</td>\n",
              "      <td>Contributions to the Cleveland Financial Stres...</td>\n",
              "      <td>1991-09-25</td>\n",
              "      <td>2016-05-05</td>\n",
              "      <td>Daily</td>\n",
              "      <td>D</td>\n",
              "      <td>Units of Stress</td>\n",
              "      <td>Units of Stress</td>\n",
              "      <td>Not Seasonally Adjusted</td>\n",
              "      <td>NSA</td>\n",
              "      <td>2016-05-06 14:23:01-05:00</td>\n",
              "      <td>2</td>\n",
              "      <td>In May of 2016, the source discovered errors i...</td>\n",
              "    </tr>\n",
              "    <tr>\n",
              "      <th>RRESD678FRBCLE</th>\n",
              "      <td>RRESD678FRBCLE</td>\n",
              "      <td>2020-08-04</td>\n",
              "      <td>2020-08-04</td>\n",
              "      <td>Contributions to the Cleveland Financial Stres...</td>\n",
              "      <td>1991-09-25</td>\n",
              "      <td>2016-05-05</td>\n",
              "      <td>Daily</td>\n",
              "      <td>D</td>\n",
              "      <td>Units of Stress</td>\n",
              "      <td>Units of Stress</td>\n",
              "      <td>Not Seasonally Adjusted</td>\n",
              "      <td>NSA</td>\n",
              "      <td>2016-05-06 14:22:15-05:00</td>\n",
              "      <td>1</td>\n",
              "      <td>In May of 2016, the source discovered errors i...</td>\n",
              "    </tr>\n",
              "  </tbody>\n",
              "</table>\n",
              "</div>"
            ],
            "text/plain": [
              "                            id  ...                                              notes\n",
              "series id                       ...                                                   \n",
              "DGS10                    DGS10  ...  For further information regarding treasury con...\n",
              "GS10                      GS10  ...  Averages of business days. For further informa...\n",
              "WGS10YR                WGS10YR  ...  Averages of business days. For further informa...\n",
              "DGS1                      DGS1  ...  For further information regarding treasury con...\n",
              "GS1                        GS1  ...  Averages of business days. For further informa...\n",
              "WGS1YR                  WGS1YR  ...  Averages of business days. For further informa...\n",
              "DGS5                      DGS5  ...  For further information regarding treasury con...\n",
              "GS5                        GS5  ...  Averages of business days. For further informa...\n",
              "WGS5YR                  WGS5YR  ...  Averages of business days. For further informa...\n",
              "DGS30                    DGS30  ...  Yields on actively traded non-inflation-indexe...\n",
              "DGS2                      DGS2  ...  For further information regarding treasury con...\n",
              "GS30                      GS30  ...  Yields on actively traded non-inflation-indexe...\n",
              "DGS3MO                  DGS3MO  ...  For further information regarding treasury con...\n",
              "WGS30YR                WGS30YR  ...  Yields on actively traded non-inflation-indexe...\n",
              "GS2                        GS2  ...  Averages of business days. For further informa...\n",
              "WGS2YR                  WGS2YR  ...  Averages of business days. For further informa...\n",
              "GS3M                      GS3M  ...  Averages of business days. For further informa...\n",
              "WGS3MO                  WGS3MO  ...  Averages of business days. For further informa...\n",
              "DGS1MO                  DGS1MO  ...  For further information regarding treasury con...\n",
              "DGS20                    DGS20  ...  For further information regarding treasury con...\n",
              "GS20                      GS20  ...  Averages of business days. For information on ...\n",
              "GS1M                      GS1M  ...  Averages of business days. For further informa...\n",
              "DGS3                      DGS3  ...  For further information regarding treasury con...\n",
              "WGS20YR                WGS20YR  ...  Averages of business days. For further informa...\n",
              "WGS1MO                  WGS1MO  ...  Averages of business days. For further informa...\n",
              "GS3                        GS3  ...  Averages of business days. For further informa...\n",
              "WGS3YR                  WGS3YR  ...  Averages of business days. For further informa...\n",
              "DGS7                      DGS7  ...  For further information regarding treasury con...\n",
              "GS7                        GS7  ...  Averages of business days. For further informa...\n",
              "WGS7YR                  WGS7YR  ...  Averages of business days. For further informa...\n",
              "DGS6MO                  DGS6MO  ...  For further information regarding treasury con...\n",
              "GS6M                      GS6M  ...  Averages of business days. For further informa...\n",
              "WGS6MO                  WGS6MO  ...  Averages of business days. For further informa...\n",
              "CRESD678FRBCLE  CRESD678FRBCLE  ...  In May of 2016, the source discovered errors i...\n",
              "RRESD678FRBCLE  RRESD678FRBCLE  ...  In May of 2016, the source discovered errors i...\n",
              "\n",
              "[35 rows x 15 columns]"
            ]
          },
          "metadata": {
            "tags": []
          },
          "execution_count": 164
        }
      ]
    },
    {
      "cell_type": "code",
      "metadata": {
        "id": "aGIis2FkXFfI"
      },
      "source": [
        "from datetime import datetime\n",
        "# As a proxy of risk free rate 3-Month Treasury Constant Maturity Rate is used. \n",
        "# This rate is widely used in financial analysis as a proxy of risk free rate \n",
        "# because government-issued paper is theoretically considered as riskless.\n",
        "risk_free=fred.get_series('GS3M')\n",
        "risk_free = risk_free.loc['20100101':'20181201']\n",
        "rf=risk_free/100"
      ],
      "execution_count": null,
      "outputs": []
    },
    {
      "cell_type": "code",
      "metadata": {
        "id": "5amzDDHWZGqn",
        "outputId": "536ce33b-4e34-466a-bdcd-44e731527cf4",
        "colab": {
          "base_uri": "https://localhost:8080/",
          "height": 119
        }
      },
      "source": [
        "rf.head(5)"
      ],
      "execution_count": null,
      "outputs": [
        {
          "output_type": "execute_result",
          "data": {
            "text/plain": [
              "2010-01-01    0.0006\n",
              "2010-02-01    0.0011\n",
              "2010-03-01    0.0015\n",
              "2010-04-01    0.0016\n",
              "2010-05-01    0.0016\n",
              "dtype: float64"
            ]
          },
          "metadata": {
            "tags": []
          },
          "execution_count": 166
        }
      ]
    },
    {
      "cell_type": "code",
      "metadata": {
        "id": "6aGipdQ0cDFg"
      },
      "source": [
        "# As we previously sampled quaterely, we need to convert the riskfree interest rate also quaterly\n",
        "rf=rf.resample('Q').mean()*3"
      ],
      "execution_count": null,
      "outputs": []
    },
    {
      "cell_type": "code",
      "metadata": {
        "id": "K2SMZBfacSxG",
        "outputId": "0dbad4ad-2082-4ff5-f73d-a763586887d4",
        "colab": {
          "base_uri": "https://localhost:8080/",
          "height": 312
        }
      },
      "source": [
        "plt.plot(risk_free)\n",
        "plt.xlabel('Date')\n",
        "plt.ylabel('%')\n",
        "plt.title('3-Month Treasury Constant Maturity Rate')\n",
        "# From plot we can observe that, 3-Month Treasury rate was rather stabile roughly during 2010–2015. \n",
        "# But from 2017, interest rate was started to raise sharply and reached at 2.5% towards the end of 2018.\n",
        "# Therefore we obtained the risk-free return on quaterly basis from 2010 to 2018"
      ],
      "execution_count": null,
      "outputs": [
        {
          "output_type": "execute_result",
          "data": {
            "text/plain": [
              "Text(0.5, 1.0, '3-Month Treasury Constant Maturity Rate')"
            ]
          },
          "metadata": {
            "tags": []
          },
          "execution_count": 168
        },
        {
          "output_type": "display_data",
          "data": {
            "image/png": "[encoded data removed]",
            "text/plain": [
              "<Figure size 432x288 with 1 Axes>"
            ]
          },
          "metadata": {
            "tags": [],
            "needs_background": "light"
          }
        }
      ]
    },
    {
      "cell_type": "code",
      "metadata": {
        "id": "Il1QUAsKcbcO",
        "outputId": "0ab1e7b9-2697-4fe9-bb6c-18c8f2673264",
        "colab": {
          "base_uri": "https://localhost:8080/",
          "height": 119
        }
      },
      "source": [
        "# GDP factor\n",
        "gdp=fred.get_series('GDP')\n",
        "gdp=gdp.loc['20100101':'20181201']\n",
        "gdp.tail()"
      ],
      "execution_count": null,
      "outputs": [
        {
          "output_type": "execute_result",
          "data": {
            "text/plain": [
              "2017-10-01    19937.963\n",
              "2018-01-01    20242.215\n",
              "2018-04-01    20552.653\n",
              "2018-07-01    20742.723\n",
              "2018-10-01    20909.853\n",
              "dtype: float64"
            ]
          },
          "metadata": {
            "tags": []
          },
          "execution_count": 169
        }
      ]
    },
    {
      "cell_type": "code",
      "metadata": {
        "id": "QgnxN7x6dAkr"
      },
      "source": [
        "# Daily returns of GDP, which indicated the growth\n",
        "gdp_growth=gdp.pct_change().dropna()"
      ],
      "execution_count": null,
      "outputs": []
    },
    {
      "cell_type": "code",
      "metadata": {
        "id": "8AT6tbL5dLiL",
        "outputId": "754b5388-5a4d-444d-dd69-bf6eff4e872c",
        "colab": {
          "base_uri": "https://localhost:8080/",
          "height": 312
        }
      },
      "source": [
        "# We can see that GDP growth oscillated between 0.01, indicating the growth is stable and rarely goes below 0.\n",
        "plt.plot(gdp_growth)\n",
        "plt.ylabel('GDP Growth Rate')\n",
        "plt.xlabel('Date')\n",
        "plt.title('GDP Growth Rate, 2010–2018')"
      ],
      "execution_count": null,
      "outputs": [
        {
          "output_type": "execute_result",
          "data": {
            "text/plain": [
              "Text(0.5, 1.0, 'GDP Growth Rate, 2010–2018')"
            ]
          },
          "metadata": {
            "tags": []
          },
          "execution_count": 171
        },
        {
          "output_type": "display_data",
          "data": {
            "image/png": "[encoded data removed]",
            "text/plain": [
              "<Figure size 432x288 with 1 Axes>"
            ]
          },
          "metadata": {
            "tags": [],
            "needs_background": "light"
          }
        }
      ]
    },
    {
      "cell_type": "code",
      "metadata": {
        "id": "pYX8Q272derq"
      },
      "source": [
        "# Calculating Inflation \n",
        "fred.search('potential inflation')\n",
        "inf=fred.get_series('CPIEALL')\n",
        "inf=inf.loc['20100101':'20181201']\n",
        "# From data and domain knowledge we know that inflation rate goes up at a moderate pace"
      ],
      "execution_count": null,
      "outputs": []
    },
    {
      "cell_type": "code",
      "metadata": {
        "id": "Bky93YF7dryP",
        "outputId": "efbca47f-2b40-457c-ef7a-7c7ecea94cc2",
        "colab": {
          "base_uri": "https://localhost:8080/",
          "height": 221
        }
      },
      "source": [
        "print(inf.head())\n",
        "print(inf.tail())"
      ],
      "execution_count": null,
      "outputs": [
        {
          "output_type": "stream",
          "text": [
            "2010-01-01    233.620\n",
            "2010-02-01    233.758\n",
            "2010-03-01    234.563\n",
            "2010-04-01    234.932\n",
            "2010-05-01    235.101\n",
            "dtype: float64\n",
            "2018-08-01    274.314\n",
            "2018-09-01    274.534\n",
            "2018-10-01    274.872\n",
            "2018-11-01    274.317\n",
            "2018-12-01    273.824\n",
            "dtype: float64\n"
          ],
          "name": "stdout"
        }
      ]
    },
    {
      "cell_type": "code",
      "metadata": {
        "id": "FzLCdhcOd2qp",
        "outputId": "a4631501-2fb0-4aa9-87c6-9e27efcfc4cb",
        "colab": {
          "base_uri": "https://localhost:8080/",
          "height": 119
        }
      },
      "source": [
        "# For quaterly Sampling rate\n",
        "inf_quarterly=inf.resample('Q').mean()\n",
        "inf_growth=inf_quarterly.pct_change().dropna()\n",
        "inf_growth.head()"
      ],
      "execution_count": null,
      "outputs": [
        {
          "output_type": "execute_result",
          "data": {
            "text/plain": [
              "2010-06-30    0.004433\n",
              "2010-09-30    0.000959\n",
              "2010-12-31    0.002327\n",
              "2011-03-31    0.011944\n",
              "2011-06-30    0.015014\n",
              "Freq: Q-DEC, dtype: float64"
            ]
          },
          "metadata": {
            "tags": []
          },
          "execution_count": 174
        }
      ]
    },
    {
      "cell_type": "code",
      "metadata": {
        "id": "mD49zHkvd_Z4",
        "outputId": "af799c55-182a-42c8-fae3-7c29ba492c90",
        "colab": {
          "base_uri": "https://localhost:8080/",
          "height": 312
        }
      },
      "source": [
        "# The assertion we made is true, that inflation growth is constant and oscilated every year.\n",
        "plt.plot(inf_growth)\n",
        "plt.ylabel('Inflation Growth Rate')\n",
        "plt.xlabel('Date')\n",
        "plt.title('Inflation Growth Rate, 2010–2019')"
      ],
      "execution_count": null,
      "outputs": [
        {
          "output_type": "execute_result",
          "data": {
            "text/plain": [
              "Text(0.5, 1.0, 'Inflation Growth Rate, 2010–2019')"
            ]
          },
          "metadata": {
            "tags": []
          },
          "execution_count": 175
        },
        {
          "output_type": "display_data",
          "data": {
            "image/png": "[encoded data removed]",
            "text/plain": [
              "<Figure size 432x288 with 1 Axes>"
            ]
          },
          "metadata": {
            "tags": [],
            "needs_background": "light"
          }
        }
      ]
    },
    {
      "cell_type": "code",
      "metadata": {
        "id": "dZdTKQr3eMU-"
      },
      "source": [
        "# For importing Oil Price, we can use Quandl API\n",
        "#!pip install quandl\n",
        "from datetime import date\n",
        "import quandl\n",
        "quandl.ApiConfig.api_key = 'r9xspF46DGBv5sNXdtME'\n",
        "# Importing our data\n",
        "oil = quandl.get(\"ODA/POILBRE_USD\", start_date=\"2009-12-01\", end_date=\"2019-01-01\")\n",
        "# Resampling for monthly\n",
        "oil_quarterly=oil.resample('Q').mean()"
      ],
      "execution_count": null,
      "outputs": []
    },
    {
      "cell_type": "code",
      "metadata": {
        "id": "dgvWpP31ek3p",
        "outputId": "0f575649-77dc-4b92-a6c0-150fb4a9f4d6",
        "colab": {
          "base_uri": "https://localhost:8080/",
          "height": 312
        }
      },
      "source": [
        "plt.plot(oil_quarterly)\n",
        "plt.ylabel('Oil Price Quaterly')\n",
        "plt.xlabel('Date')\n",
        "plt.title('Oil Price from, 2010–2019')\n",
        "# Oil price shows considerable instability. Oil price, for instance, has its peak at 118 USD in 2012 but it plunged and \n",
        "# dropped to 34 USD in 2016 following the short-term restriction on oil supply. As is seen, there exists wild volatility \n",
        "# in the oil price in this study period.\n"
      ],
      "execution_count": null,
      "outputs": [
        {
          "output_type": "execute_result",
          "data": {
            "text/plain": [
              "Text(0.5, 1.0, 'Oil Price from, 2010–2019')"
            ]
          },
          "metadata": {
            "tags": []
          },
          "execution_count": 177
        },
        {
          "output_type": "display_data",
          "data": {
            "image/png": "[encoded data removed]",
            "text/plain": [
              "<Figure size 432x288 with 1 Axes>"
            ]
          },
          "metadata": {
            "tags": [],
            "needs_background": "light"
          }
        }
      ]
    },
    {
      "cell_type": "code",
      "metadata": {
        "id": "IFMofwXxgZvO",
        "outputId": "67b5650b-95d6-4c51-9aa1-f030adca9cf9",
        "colab": {
          "base_uri": "https://localhost:8080/",
          "height": 235
        }
      },
      "source": [
        "# Inorder to check the daily returns in Oil price.\n",
        "oil_return=oil_quarterly.pct_change().dropna()\n",
        "oil_return.head()"
      ],
      "execution_count": null,
      "outputs": [
        {
          "output_type": "execute_result",
          "data": {
            "text/html": [
              "<div>\n",
              "<style scoped>\n",
              "    .dataframe tbody tr th:only-of-type {\n",
              "        vertical-align: middle;\n",
              "    }\n",
              "\n",
              "    .dataframe tbody tr th {\n",
              "        vertical-align: top;\n",
              "    }\n",
              "\n",
              "    .dataframe thead th {\n",
              "        text-align: right;\n",
              "    }\n",
              "</style>\n",
              "<table border=\"1\" class=\"dataframe\">\n",
              "  <thead>\n",
              "    <tr style=\"text-align: right;\">\n",
              "      <th></th>\n",
              "      <th>Value</th>\n",
              "    </tr>\n",
              "    <tr>\n",
              "      <th>Date</th>\n",
              "      <th></th>\n",
              "    </tr>\n",
              "  </thead>\n",
              "  <tbody>\n",
              "    <tr>\n",
              "      <th>2010-03-31</th>\n",
              "      <td>0.026324</td>\n",
              "    </tr>\n",
              "    <tr>\n",
              "      <th>2010-06-30</th>\n",
              "      <td>0.026168</td>\n",
              "    </tr>\n",
              "    <tr>\n",
              "      <th>2010-09-30</th>\n",
              "      <td>-0.028821</td>\n",
              "    </tr>\n",
              "    <tr>\n",
              "      <th>2010-12-31</th>\n",
              "      <td>0.135982</td>\n",
              "    </tr>\n",
              "    <tr>\n",
              "      <th>2011-03-31</th>\n",
              "      <td>0.208562</td>\n",
              "    </tr>\n",
              "  </tbody>\n",
              "</table>\n",
              "</div>"
            ],
            "text/plain": [
              "               Value\n",
              "Date                \n",
              "2010-03-31  0.026324\n",
              "2010-06-30  0.026168\n",
              "2010-09-30 -0.028821\n",
              "2010-12-31  0.135982\n",
              "2011-03-31  0.208562"
            ]
          },
          "metadata": {
            "tags": []
          },
          "execution_count": 178
        }
      ]
    },
    {
      "cell_type": "code",
      "metadata": {
        "id": "7FJzgMCP90Iz",
        "outputId": "3bbc3e30-0f88-485b-e83b-5ea041d83e1d",
        "colab": {
          "base_uri": "https://localhost:8080/",
          "height": 312
        }
      },
      "source": [
        "# High volatility in oil price can be observed simply by looking at the oil return during 2010–2018.\n",
        "plt.plot(oil_return)\n",
        "plt.ylabel('Oil Quaterly Returns')\n",
        "plt.xlabel('Date')\n",
        "plt.title('Oil Quaterly Returns from, 2010–2019')\n",
        "# The most striking observation is oil price dropped and increase by nearly 30% in mid-2015 and mid-2016, respectively."
      ],
      "execution_count": null,
      "outputs": [
        {
          "output_type": "execute_result",
          "data": {
            "text/plain": [
              "Text(0.5, 1.0, 'Oil Quaterly Returns from, 2010–2019')"
            ]
          },
          "metadata": {
            "tags": []
          },
          "execution_count": 179
        },
        {
          "output_type": "display_data",
          "data": {
            "image/png": "[encoded data removed]",
            "text/plain": [
              "<Figure size 432x288 with 1 Axes>"
            ]
          },
          "metadata": {
            "tags": [],
            "needs_background": "light"
          }
        }
      ]
    },
    {
      "cell_type": "markdown",
      "metadata": {
        "id": "44t4rANM-RVv"
      },
      "source": [
        "# Data Cleaning for APT Implementation"
      ]
    },
    {
      "cell_type": "code",
      "metadata": {
        "id": "kTOz_67b-Cn7"
      },
      "source": [
        "# Data Preparation to fit all data in one dataframe\n",
        "returns=returns.reset_index() # Original Stock Portfolio Dataframe\n",
        "returns.drop('Date',axis=1,inplace=True)"
      ],
      "execution_count": null,
      "outputs": []
    },
    {
      "cell_type": "code",
      "metadata": {
        "id": "eVfQSqSi-dcY"
      },
      "source": [
        "# Manipulation on Risk Free Dataframe\n",
        "rf=pd.DataFrame(rf)\n",
        "rf=rf.reset_index() # Ignoring Index\n",
        "rf.drop('index',axis=1,inplace=True) # Dropping Index Column\n",
        "rf.columns=['rf']\n",
        "returns['rf']=pd.DataFrame(rf) # Adding the riskfree return series to returns dataframe"
      ],
      "execution_count": null,
      "outputs": []
    },
    {
      "cell_type": "code",
      "metadata": {
        "id": "7PyQANLj-0X7"
      },
      "source": [
        "# We are subtracting the excess return ie risk free return if invested on govt currency for each stock.\n",
        "stocks=['AAPL','INTC','MSFT']\n",
        "for i in stocks:\n",
        " returns['excess_return_'+str(i)]=returns[i]-returns.rf # Adding the columns after subtracting risk free return"
      ],
      "execution_count": null,
      "outputs": []
    },
    {
      "cell_type": "code",
      "metadata": {
        "id": "zdwROo2U_Jwv",
        "outputId": "ee6d8fc6-a2de-41cf-91b3-4ea2e938b9c0",
        "colab": {
          "base_uri": "https://localhost:8080/",
          "height": 204
        }
      },
      "source": [
        "returns.head(5)"
      ],
      "execution_count": null,
      "outputs": [
        {
          "output_type": "execute_result",
          "data": {
            "text/html": [
              "<div>\n",
              "<style scoped>\n",
              "    .dataframe tbody tr th:only-of-type {\n",
              "        vertical-align: middle;\n",
              "    }\n",
              "\n",
              "    .dataframe tbody tr th {\n",
              "        vertical-align: top;\n",
              "    }\n",
              "\n",
              "    .dataframe thead th {\n",
              "        text-align: right;\n",
              "    }\n",
              "</style>\n",
              "<table border=\"1\" class=\"dataframe\">\n",
              "  <thead>\n",
              "    <tr style=\"text-align: right;\">\n",
              "      <th></th>\n",
              "      <th>AAPL</th>\n",
              "      <th>INTC</th>\n",
              "      <th>MSFT</th>\n",
              "      <th>rf</th>\n",
              "      <th>excess_return_AAPL</th>\n",
              "      <th>excess_return_INTC</th>\n",
              "      <th>excess_return_MSFT</th>\n",
              "    </tr>\n",
              "  </thead>\n",
              "  <tbody>\n",
              "    <tr>\n",
              "      <th>0</th>\n",
              "      <td>0.070341</td>\n",
              "      <td>-0.120432</td>\n",
              "      <td>-0.210734</td>\n",
              "      <td>0.0032</td>\n",
              "      <td>0.067141</td>\n",
              "      <td>-0.123632</td>\n",
              "      <td>-0.213934</td>\n",
              "    </tr>\n",
              "    <tr>\n",
              "      <th>1</th>\n",
              "      <td>0.128096</td>\n",
              "      <td>-0.005891</td>\n",
              "      <td>0.069123</td>\n",
              "      <td>0.0044</td>\n",
              "      <td>0.123696</td>\n",
              "      <td>-0.010291</td>\n",
              "      <td>0.064723</td>\n",
              "    </tr>\n",
              "    <tr>\n",
              "      <th>2</th>\n",
              "      <td>0.136776</td>\n",
              "      <td>0.103668</td>\n",
              "      <td>0.145728</td>\n",
              "      <td>0.0047</td>\n",
              "      <td>0.132076</td>\n",
              "      <td>0.098968</td>\n",
              "      <td>0.141028</td>\n",
              "    </tr>\n",
              "    <tr>\n",
              "      <th>3</th>\n",
              "      <td>0.080450</td>\n",
              "      <td>-0.032906</td>\n",
              "      <td>-0.084700</td>\n",
              "      <td>0.0041</td>\n",
              "      <td>0.076350</td>\n",
              "      <td>-0.037006</td>\n",
              "      <td>-0.088800</td>\n",
              "    </tr>\n",
              "    <tr>\n",
              "      <th>4</th>\n",
              "      <td>-0.036843</td>\n",
              "      <td>0.107414</td>\n",
              "      <td>0.030078</td>\n",
              "      <td>0.0038</td>\n",
              "      <td>-0.040643</td>\n",
              "      <td>0.103614</td>\n",
              "      <td>0.026278</td>\n",
              "    </tr>\n",
              "  </tbody>\n",
              "</table>\n",
              "</div>"
            ],
            "text/plain": [
              "       AAPL      INTC  ...  excess_return_INTC  excess_return_MSFT\n",
              "0  0.070341 -0.120432  ...           -0.123632           -0.213934\n",
              "1  0.128096 -0.005891  ...           -0.010291            0.064723\n",
              "2  0.136776  0.103668  ...            0.098968            0.141028\n",
              "3  0.080450 -0.032906  ...           -0.037006           -0.088800\n",
              "4 -0.036843  0.107414  ...            0.103614            0.026278\n",
              "\n",
              "[5 rows x 7 columns]"
            ]
          },
          "metadata": {
            "tags": []
          },
          "execution_count": 183
        }
      ]
    },
    {
      "cell_type": "code",
      "metadata": {
        "id": "mz7dWU5o_WFg"
      },
      "source": [
        "# We apply the same treatment for other macroeconomic variables as well.\n",
        "gdp_growth=gdp_growth.reset_index()\n",
        "inf_growth=inf_growth.reset_index()\n",
        "oil_return=oil_return.reset_index()\n",
        "gdp_growth.drop('index',axis=1,inplace=True)\n",
        "inf_growth.drop('index',axis=1,inplace=True)\n",
        "oil_return.drop('Date',axis=1,inplace=True)\n",
        "gdp_growth.columns=[\"gdp_growth\"]\n",
        "inf_growth.columns=[\"inf_growth\"]\n",
        "oil_return.columns=[\"oil_return\"]"
      ],
      "execution_count": null,
      "outputs": []
    },
    {
      "cell_type": "code",
      "metadata": {
        "id": "19_jVqQH_h9V"
      },
      "source": [
        "# Let us examine each of the stocks seperatly with macroeconomic variables\n",
        "data1=pd.concat([gdp_growth, inf_growth,oil_return], axis=1)\n",
        "data2=pd.concat([gdp_growth, inf_growth,oil_return], axis=1)\n",
        "data3=pd.concat([gdp_growth, inf_growth,oil_return], axis=1)"
      ],
      "execution_count": null,
      "outputs": []
    },
    {
      "cell_type": "code",
      "metadata": {
        "id": "q_I17s3tAC6C"
      },
      "source": [
        "# Three different data which is labeled as “data1”,”data2\", and “data3”. Macroeconomic variables are the same in all data.\n",
        "# The only difference is the stocks, That is to say, “data1” includes excess return of Apple,\n",
        "#  “data2” includes excess return of Intel, “data3” includes excess return of Microsoft.\n",
        "data1['excess_return']=returns.excess_return_AAPL\n",
        "data2['excess_return']=returns.excess_return_INTC\n",
        "data3['excess_return']=returns.excess_return_MSFT"
      ],
      "execution_count": null,
      "outputs": []
    },
    {
      "cell_type": "code",
      "metadata": {
        "id": "_7mjb4hLBE5-"
      },
      "source": [
        "# empirically test the validity of APT by simply using some main US macroeconomic variables.\n",
        "# Lets see if we can fit an Regression line for the data\n",
        "import statsmodels.regression.linear_model as smlr\n",
        "models =[]\n",
        "for i in (data1,data2,data3):\n",
        "    formula =  \"excess_return~ gdp_growth+inf_growth+oil_return\"\n",
        "    models.append(smlr.OLS.from_formula(formula, data = i).fit())  "
      ],
      "execution_count": null,
      "outputs": []
    },
    {
      "cell_type": "code",
      "metadata": {
        "id": "QQgcdzLBB8Kn",
        "outputId": "fda6d9bb-bcc8-46b2-d1c1-a7af9d1707ba",
        "colab": {
          "base_uri": "https://localhost:8080/",
          "height": 486
        }
      },
      "source": [
        "# The result shows the association between excess return of Apple and pre-defined macroeconomic variables. \n",
        "# Accordingly, the estimated coefficient of the model is not statistically significant indicating that \n",
        "# these macroeconomic variables do not account for the excess return of Apple. More specifically, \n",
        "# by looking at p-values, I conclude that the estimated coefficients of  inflation growth, and \n",
        "# oil return is not statistically significant at conventional levels.\n",
        "# But GDP is having a part in prediction of AAPL stock Price\n",
        "# To be interpret, one unit increase in gdp growth boosts excess return in apple by nearly 11.4 times.\n",
        "models[0].summary()"
      ],
      "execution_count": null,
      "outputs": [
        {
          "output_type": "execute_result",
          "data": {
            "text/html": [
              "<table class=\"simpletable\">\n",
              "<caption>OLS Regression Results</caption>\n",
              "<tr>\n",
              "  <th>Dep. Variable:</th>      <td>excess_return</td>  <th>  R-squared:         </th> <td>   0.107</td>\n",
              "</tr>\n",
              "<tr>\n",
              "  <th>Model:</th>                   <td>OLS</td>       <th>  Adj. R-squared:    </th> <td>   0.021</td>\n",
              "</tr>\n",
              "<tr>\n",
              "  <th>Method:</th>             <td>Least Squares</td>  <th>  F-statistic:       </th> <td>   1.239</td>\n",
              "</tr>\n",
              "<tr>\n",
              "  <th>Date:</th>             <td>Tue, 04 Aug 2020</td> <th>  Prob (F-statistic):</th>  <td> 0.312</td> \n",
              "</tr>\n",
              "<tr>\n",
              "  <th>Time:</th>                 <td>10:39:16</td>     <th>  Log-Likelihood:    </th> <td>  19.151</td>\n",
              "</tr>\n",
              "<tr>\n",
              "  <th>No. Observations:</th>      <td>    35</td>      <th>  AIC:               </th> <td>  -30.30</td>\n",
              "</tr>\n",
              "<tr>\n",
              "  <th>Df Residuals:</th>          <td>    31</td>      <th>  BIC:               </th> <td>  -24.08</td>\n",
              "</tr>\n",
              "<tr>\n",
              "  <th>Df Model:</th>              <td>     3</td>      <th>                     </th>     <td> </td>   \n",
              "</tr>\n",
              "<tr>\n",
              "  <th>Covariance Type:</th>      <td>nonrobust</td>    <th>                     </th>     <td> </td>   \n",
              "</tr>\n",
              "</table>\n",
              "<table class=\"simpletable\">\n",
              "<tr>\n",
              "       <td></td>         <th>coef</th>     <th>std err</th>      <th>t</th>      <th>P>|t|</th>  <th>[0.025</th>    <th>0.975]</th>  \n",
              "</tr>\n",
              "<tr>\n",
              "  <th>Intercept</th>  <td>   -0.0578</td> <td>    0.065</td> <td>   -0.885</td> <td> 0.383</td> <td>   -0.191</td> <td>    0.075</td>\n",
              "</tr>\n",
              "<tr>\n",
              "  <th>gdp_growth</th> <td>   11.4415</td> <td>    5.968</td> <td>    1.917</td> <td> 0.064</td> <td>   -0.730</td> <td>   23.613</td>\n",
              "</tr>\n",
              "<tr>\n",
              "  <th>inf_growth</th> <td>   -2.0322</td> <td>    5.809</td> <td>   -0.350</td> <td> 0.729</td> <td>  -13.879</td> <td>    9.815</td>\n",
              "</tr>\n",
              "<tr>\n",
              "  <th>oil_return</th> <td>    0.0218</td> <td>    0.204</td> <td>    0.107</td> <td> 0.916</td> <td>   -0.395</td> <td>    0.439</td>\n",
              "</tr>\n",
              "</table>\n",
              "<table class=\"simpletable\">\n",
              "<tr>\n",
              "  <th>Omnibus:</th>       <td> 3.650</td> <th>  Durbin-Watson:     </th> <td>   2.056</td>\n",
              "</tr>\n",
              "<tr>\n",
              "  <th>Prob(Omnibus):</th> <td> 0.161</td> <th>  Jarque-Bera (JB):  </th> <td>   2.860</td>\n",
              "</tr>\n",
              "<tr>\n",
              "  <th>Skew:</th>          <td>-0.164</td> <th>  Prob(JB):          </th> <td>   0.239</td>\n",
              "</tr>\n",
              "<tr>\n",
              "  <th>Kurtosis:</th>      <td> 4.362</td> <th>  Cond. No.          </th> <td>    257.</td>\n",
              "</tr>\n",
              "</table><br/><br/>Warnings:<br/>[1] Standard Errors assume that the covariance matrix of the errors is correctly specified."
            ],
            "text/plain": [
              "<class 'statsmodels.iolib.summary.Summary'>\n",
              "\"\"\"\n",
              "                            OLS Regression Results                            \n",
              "==============================================================================\n",
              "Dep. Variable:          excess_return   R-squared:                       0.107\n",
              "Model:                            OLS   Adj. R-squared:                  0.021\n",
              "Method:                 Least Squares   F-statistic:                     1.239\n",
              "Date:                Tue, 04 Aug 2020   Prob (F-statistic):              0.312\n",
              "Time:                        10:39:16   Log-Likelihood:                 19.151\n",
              "No. Observations:                  35   AIC:                            -30.30\n",
              "Df Residuals:                      31   BIC:                            -24.08\n",
              "Df Model:                           3                                         \n",
              "Covariance Type:            nonrobust                                         \n",
              "==============================================================================\n",
              "                 coef    std err          t      P>|t|      [0.025      0.975]\n",
              "------------------------------------------------------------------------------\n",
              "Intercept     -0.0578      0.065     -0.885      0.383      -0.191       0.075\n",
              "gdp_growth    11.4415      5.968      1.917      0.064      -0.730      23.613\n",
              "inf_growth    -2.0322      5.809     -0.350      0.729     -13.879       9.815\n",
              "oil_return     0.0218      0.204      0.107      0.916      -0.395       0.439\n",
              "==============================================================================\n",
              "Omnibus:                        3.650   Durbin-Watson:                   2.056\n",
              "Prob(Omnibus):                  0.161   Jarque-Bera (JB):                2.860\n",
              "Skew:                          -0.164   Prob(JB):                        0.239\n",
              "Kurtosis:                       4.362   Cond. No.                         257.\n",
              "==============================================================================\n",
              "\n",
              "Warnings:\n",
              "[1] Standard Errors assume that the covariance matrix of the errors is correctly specified.\n",
              "\"\"\""
            ]
          },
          "metadata": {
            "tags": []
          },
          "execution_count": 188
        }
      ]
    },
    {
      "cell_type": "code",
      "metadata": {
        "id": "rEhmX-O5Cxbz",
        "outputId": "850ee4ce-0fbf-43e9-9c30-27df8b5338e4",
        "colab": {
          "base_uri": "https://localhost:8080/",
          "height": 486
        }
      },
      "source": [
        "# This model presents the nexus between excess return of Intel and the same macroecomic variables provided below.\n",
        "#  Differently from the Apple case, this analysis confirms that there is a statistically significant relationship between excess return\n",
        "# of Intel and gdp growth of US at 10% level (p-value is 0.093). To be interpret, one unit increase in gdp growth boosts\n",
        "# excess return on Intel by nearly 8.96. So, there is a positive relationship between gdp growth and excess return of Intel. \n",
        "# However, no relation is detected for the rest of the variables.\n",
        "models[1].summary()"
      ],
      "execution_count": null,
      "outputs": [
        {
          "output_type": "execute_result",
          "data": {
            "text/html": [
              "<table class=\"simpletable\">\n",
              "<caption>OLS Regression Results</caption>\n",
              "<tr>\n",
              "  <th>Dep. Variable:</th>      <td>excess_return</td>  <th>  R-squared:         </th> <td>   0.159</td>\n",
              "</tr>\n",
              "<tr>\n",
              "  <th>Model:</th>                   <td>OLS</td>       <th>  Adj. R-squared:    </th> <td>   0.078</td>\n",
              "</tr>\n",
              "<tr>\n",
              "  <th>Method:</th>             <td>Least Squares</td>  <th>  F-statistic:       </th> <td>   1.957</td>\n",
              "</tr>\n",
              "<tr>\n",
              "  <th>Date:</th>             <td>Tue, 04 Aug 2020</td> <th>  Prob (F-statistic):</th>  <td> 0.141</td> \n",
              "</tr>\n",
              "<tr>\n",
              "  <th>Time:</th>                 <td>10:41:56</td>     <th>  Log-Likelihood:    </th> <td>  33.522</td>\n",
              "</tr>\n",
              "<tr>\n",
              "  <th>No. Observations:</th>      <td>    35</td>      <th>  AIC:               </th> <td>  -59.04</td>\n",
              "</tr>\n",
              "<tr>\n",
              "  <th>Df Residuals:</th>          <td>    31</td>      <th>  BIC:               </th> <td>  -52.82</td>\n",
              "</tr>\n",
              "<tr>\n",
              "  <th>Df Model:</th>              <td>     3</td>      <th>                     </th>     <td> </td>   \n",
              "</tr>\n",
              "<tr>\n",
              "  <th>Covariance Type:</th>      <td>nonrobust</td>    <th>                     </th>     <td> </td>   \n",
              "</tr>\n",
              "</table>\n",
              "<table class=\"simpletable\">\n",
              "<tr>\n",
              "       <td></td>         <th>coef</th>     <th>std err</th>      <th>t</th>      <th>P>|t|</th>  <th>[0.025</th>    <th>0.975]</th>  \n",
              "</tr>\n",
              "<tr>\n",
              "  <th>Intercept</th>  <td>   -0.0597</td> <td>    0.043</td> <td>   -1.377</td> <td> 0.178</td> <td>   -0.148</td> <td>    0.029</td>\n",
              "</tr>\n",
              "<tr>\n",
              "  <th>gdp_growth</th> <td>    8.9463</td> <td>    3.958</td> <td>    2.260</td> <td> 0.031</td> <td>    0.874</td> <td>   17.019</td>\n",
              "</tr>\n",
              "<tr>\n",
              "  <th>inf_growth</th> <td>   -1.6356</td> <td>    3.853</td> <td>   -0.425</td> <td> 0.674</td> <td>   -9.493</td> <td>    6.222</td>\n",
              "</tr>\n",
              "<tr>\n",
              "  <th>oil_return</th> <td>    0.1012</td> <td>    0.136</td> <td>    0.746</td> <td> 0.461</td> <td>   -0.175</td> <td>    0.378</td>\n",
              "</tr>\n",
              "</table>\n",
              "<table class=\"simpletable\">\n",
              "<tr>\n",
              "  <th>Omnibus:</th>       <td> 0.561</td> <th>  Durbin-Watson:     </th> <td>   1.556</td>\n",
              "</tr>\n",
              "<tr>\n",
              "  <th>Prob(Omnibus):</th> <td> 0.755</td> <th>  Jarque-Bera (JB):  </th> <td>   0.636</td>\n",
              "</tr>\n",
              "<tr>\n",
              "  <th>Skew:</th>          <td> 0.033</td> <th>  Prob(JB):          </th> <td>   0.728</td>\n",
              "</tr>\n",
              "<tr>\n",
              "  <th>Kurtosis:</th>      <td> 2.343</td> <th>  Cond. No.          </th> <td>    257.</td>\n",
              "</tr>\n",
              "</table><br/><br/>Warnings:<br/>[1] Standard Errors assume that the covariance matrix of the errors is correctly specified."
            ],
            "text/plain": [
              "<class 'statsmodels.iolib.summary.Summary'>\n",
              "\"\"\"\n",
              "                            OLS Regression Results                            \n",
              "==============================================================================\n",
              "Dep. Variable:          excess_return   R-squared:                       0.159\n",
              "Model:                            OLS   Adj. R-squared:                  0.078\n",
              "Method:                 Least Squares   F-statistic:                     1.957\n",
              "Date:                Tue, 04 Aug 2020   Prob (F-statistic):              0.141\n",
              "Time:                        10:41:56   Log-Likelihood:                 33.522\n",
              "No. Observations:                  35   AIC:                            -59.04\n",
              "Df Residuals:                      31   BIC:                            -52.82\n",
              "Df Model:                           3                                         \n",
              "Covariance Type:            nonrobust                                         \n",
              "==============================================================================\n",
              "                 coef    std err          t      P>|t|      [0.025      0.975]\n",
              "------------------------------------------------------------------------------\n",
              "Intercept     -0.0597      0.043     -1.377      0.178      -0.148       0.029\n",
              "gdp_growth     8.9463      3.958      2.260      0.031       0.874      17.019\n",
              "inf_growth    -1.6356      3.853     -0.425      0.674      -9.493       6.222\n",
              "oil_return     0.1012      0.136      0.746      0.461      -0.175       0.378\n",
              "==============================================================================\n",
              "Omnibus:                        0.561   Durbin-Watson:                   1.556\n",
              "Prob(Omnibus):                  0.755   Jarque-Bera (JB):                0.636\n",
              "Skew:                           0.033   Prob(JB):                        0.728\n",
              "Kurtosis:                       2.343   Cond. No.                         257.\n",
              "==============================================================================\n",
              "\n",
              "Warnings:\n",
              "[1] Standard Errors assume that the covariance matrix of the errors is correctly specified.\n",
              "\"\"\""
            ]
          },
          "metadata": {
            "tags": []
          },
          "execution_count": 189
        }
      ]
    },
    {
      "cell_type": "code",
      "metadata": {
        "id": "EyFkgqOIDpX5",
        "outputId": "fceed838-5856-4218-85cf-97d4f1385be5",
        "colab": {
          "base_uri": "https://localhost:8080/",
          "height": 486
        }
      },
      "source": [
        "# Microsoft is not having not much of influence on Stock price by macro economic factors.\n",
        "models[2].summary()"
      ],
      "execution_count": null,
      "outputs": [
        {
          "output_type": "execute_result",
          "data": {
            "text/html": [
              "<table class=\"simpletable\">\n",
              "<caption>OLS Regression Results</caption>\n",
              "<tr>\n",
              "  <th>Dep. Variable:</th>      <td>excess_return</td>  <th>  R-squared:         </th> <td>   0.006</td>\n",
              "</tr>\n",
              "<tr>\n",
              "  <th>Model:</th>                   <td>OLS</td>       <th>  Adj. R-squared:    </th> <td>  -0.091</td>\n",
              "</tr>\n",
              "<tr>\n",
              "  <th>Method:</th>             <td>Least Squares</td>  <th>  F-statistic:       </th> <td> 0.05729</td>\n",
              "</tr>\n",
              "<tr>\n",
              "  <th>Date:</th>             <td>Tue, 04 Aug 2020</td> <th>  Prob (F-statistic):</th>  <td> 0.982</td> \n",
              "</tr>\n",
              "<tr>\n",
              "  <th>Time:</th>                 <td>10:45:40</td>     <th>  Log-Likelihood:    </th> <td>  29.177</td>\n",
              "</tr>\n",
              "<tr>\n",
              "  <th>No. Observations:</th>      <td>    35</td>      <th>  AIC:               </th> <td>  -50.35</td>\n",
              "</tr>\n",
              "<tr>\n",
              "  <th>Df Residuals:</th>          <td>    31</td>      <th>  BIC:               </th> <td>  -44.13</td>\n",
              "</tr>\n",
              "<tr>\n",
              "  <th>Df Model:</th>              <td>     3</td>      <th>                     </th>     <td> </td>   \n",
              "</tr>\n",
              "<tr>\n",
              "  <th>Covariance Type:</th>      <td>nonrobust</td>    <th>                     </th>     <td> </td>   \n",
              "</tr>\n",
              "</table>\n",
              "<table class=\"simpletable\">\n",
              "<tr>\n",
              "       <td></td>         <th>coef</th>     <th>std err</th>      <th>t</th>      <th>P>|t|</th>  <th>[0.025</th>    <th>0.975]</th>  \n",
              "</tr>\n",
              "<tr>\n",
              "  <th>Intercept</th>  <td>    0.0268</td> <td>    0.049</td> <td>    0.547</td> <td> 0.588</td> <td>   -0.073</td> <td>    0.127</td>\n",
              "</tr>\n",
              "<tr>\n",
              "  <th>gdp_growth</th> <td>    1.5134</td> <td>    4.481</td> <td>    0.338</td> <td> 0.738</td> <td>   -7.626</td> <td>   10.653</td>\n",
              "</tr>\n",
              "<tr>\n",
              "  <th>inf_growth</th> <td>   -1.0508</td> <td>    4.362</td> <td>   -0.241</td> <td> 0.811</td> <td>   -9.947</td> <td>    7.845</td>\n",
              "</tr>\n",
              "<tr>\n",
              "  <th>oil_return</th> <td>    0.0297</td> <td>    0.154</td> <td>    0.193</td> <td> 0.848</td> <td>   -0.284</td> <td>    0.343</td>\n",
              "</tr>\n",
              "</table>\n",
              "<table class=\"simpletable\">\n",
              "<tr>\n",
              "  <th>Omnibus:</th>       <td> 0.896</td> <th>  Durbin-Watson:     </th> <td>   2.075</td>\n",
              "</tr>\n",
              "<tr>\n",
              "  <th>Prob(Omnibus):</th> <td> 0.639</td> <th>  Jarque-Bera (JB):  </th> <td>   0.206</td>\n",
              "</tr>\n",
              "<tr>\n",
              "  <th>Skew:</th>          <td>-0.088</td> <th>  Prob(JB):          </th> <td>   0.902</td>\n",
              "</tr>\n",
              "<tr>\n",
              "  <th>Kurtosis:</th>      <td> 3.332</td> <th>  Cond. No.          </th> <td>    257.</td>\n",
              "</tr>\n",
              "</table><br/><br/>Warnings:<br/>[1] Standard Errors assume that the covariance matrix of the errors is correctly specified."
            ],
            "text/plain": [
              "<class 'statsmodels.iolib.summary.Summary'>\n",
              "\"\"\"\n",
              "                            OLS Regression Results                            \n",
              "==============================================================================\n",
              "Dep. Variable:          excess_return   R-squared:                       0.006\n",
              "Model:                            OLS   Adj. R-squared:                 -0.091\n",
              "Method:                 Least Squares   F-statistic:                   0.05729\n",
              "Date:                Tue, 04 Aug 2020   Prob (F-statistic):              0.982\n",
              "Time:                        10:45:40   Log-Likelihood:                 29.177\n",
              "No. Observations:                  35   AIC:                            -50.35\n",
              "Df Residuals:                      31   BIC:                            -44.13\n",
              "Df Model:                           3                                         \n",
              "Covariance Type:            nonrobust                                         \n",
              "==============================================================================\n",
              "                 coef    std err          t      P>|t|      [0.025      0.975]\n",
              "------------------------------------------------------------------------------\n",
              "Intercept      0.0268      0.049      0.547      0.588      -0.073       0.127\n",
              "gdp_growth     1.5134      4.481      0.338      0.738      -7.626      10.653\n",
              "inf_growth    -1.0508      4.362     -0.241      0.811      -9.947       7.845\n",
              "oil_return     0.0297      0.154      0.193      0.848      -0.284       0.343\n",
              "==============================================================================\n",
              "Omnibus:                        0.896   Durbin-Watson:                   2.075\n",
              "Prob(Omnibus):                  0.639   Jarque-Bera (JB):                0.206\n",
              "Skew:                          -0.088   Prob(JB):                        0.902\n",
              "Kurtosis:                       3.332   Cond. No.                         257.\n",
              "==============================================================================\n",
              "\n",
              "Warnings:\n",
              "[1] Standard Errors assume that the covariance matrix of the errors is correctly specified.\n",
              "\"\"\""
            ]
          },
          "metadata": {
            "tags": []
          },
          "execution_count": 190
        }
      ]
    },
    {
      "cell_type": "code",
      "metadata": {
        "id": "aeFbOVZ8E51G"
      },
      "source": [
        ""
      ],
      "execution_count": null,
      "outputs": []
    }
  ]
}